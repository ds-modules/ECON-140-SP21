{
 "cells": [
  {
   "cell_type": "code",
   "execution_count": null,
   "metadata": {
    "deletable": false,
    "editable": false
   },
   "outputs": [],
   "source": [
    "# Initialize Otter\n",
    "import otter\n",
    "grader = otter.Notebook()"
   ]
  },
  {
   "cell_type": "markdown",
   "metadata": {
    "cell_id": "00001-9fe3d740-c74f-422a-993b-a3372ab5b39e",
    "deepnote_cell_type": "markdown",
    "deletable": false
   },
   "source": [
    "# Problem Set 0 - Python & Jupyter Notebooks\n",
    "\n",
    "In this problem set, you will learn how to:\n",
    "\n",
    "* navigate jupyter notebooks (like this one).\n",
    "* write and evaluate some basic *expressions* in python, the computer language of the course.\n",
    "* call *functions* to use code other people have written and learn about *loops* to iterate code.\n",
    "* learn data manipulation using the `pandas` package.\n",
    "\n",
    "For reference, you might find it useful to read [Chapter 3 of the Data 8 textbook](http://www.inferentialthinking.com/chapters/03/programming-in-python.html), [Chapter 1](https://www.inferentialthinking.com/chapters/01/what-is-data-science.html) and [Chapter 2](https://www.inferentialthinking.com/chapters/02/causality-and-experiments.html) are worth skimming as well."
   ]
  },
  {
   "cell_type": "markdown",
   "metadata": {
    "cell_id": "00002-3460641b-0c9d-4ba8-93be-254bd6e109cf",
    "deepnote_cell_type": "markdown"
   },
   "source": [
    "## 1. Jupyter Notebooks\n",
    "\n",
    "This webpage is called a Jupyter notebook. A notebook is an interactive computing environment to write programs and view their results, and also to write text.\n",
    "\n",
    "A notebook is thus an editable computer document in which you can write computer programs; view their results; and comment, annotate, and explain what is going on. \n",
    "[Project jupyter](https://en.wikipedia.org/wiki/Project_Jupyter) is headquartered here at Berkeley, where its original creator [Fernando Pérez](https://en.wikipedia.org/wiki/Fernando_Pérez_(software_developer)) works; its purpose is to build human-friendly frameworks for interactive computing. \n",
    "If you want to see what Fernando looks and sounds like, you can load and watch a 15-minute inspirational video by clicking on \"YouTubeVideo\" below and then on the `▶` in the toolbar above: "
   ]
  },
  {
   "cell_type": "code",
   "execution_count": 6,
   "metadata": {
    "cell_id": "00003-8e397440-7dfe-4f43-bedb-14540ed054ec",
    "deepnote_cell_type": "code",
    "deepnote_to_be_reexecuted": false,
    "execution_millis": 27,
    "execution_start": 1610475551261,
    "scrolled": true,
    "source_hash": "ff18736c"
   },
   "outputs": [],
   "source": [
    "from IPython.display import YouTubeVideo\n",
    "\n",
    "YouTubeVideo(\"Wd6a3JIFH0s\")"
   ]
  },
  {
   "cell_type": "markdown",
   "metadata": {
    "cell_id": "00004-6df3eb46-4707-4bcd-9faa-894deae15acc",
    "deepnote_cell_type": "markdown"
   },
   "source": [
    "### 1.1. Text cells\n",
    "\n",
    "In a notebook, each rectangle containing text or code is called a *cell*.\n",
    "\n",
    "Text cells (like this one) can be edited by double-clicking on them. They're written in a simple format called  [markdown](http://daringfireball.net/projects/markdown/syntax) to add formatting and section headings. \n",
    "You don't need to learn markdown, but you might want to.\n",
    "\n",
    "After you edit a text cell, click the \"run cell\" button at the top that looks like `▶` in the toolbar at the top of this window, or hold down `shift` + press `return`, to confirm any changes to the text and formatting. "
   ]
  },
  {
   "cell_type": "markdown",
   "metadata": {
    "cell_id": "00005-4e13a95d-188b-496f-9afa-a57ea2bd2c91",
    "deepnote_cell_type": "markdown",
    "deletable": false
   },
   "source": [
    "**Question 1.1.1.** This paragraph is in its own text cell.  Try editing it so that this sentence is the last sentence in the paragraph, and then click the \"run cell\" ▶| button or hold down `shift` + `return`.  This sentence, for example, should be deleted.  So should this one."
   ]
  },
  {
   "cell_type": "markdown",
   "metadata": {
    "cell_id": "00006-0b3aef2c-13c1-4318-b10e-f2935d59f8f6",
    "deepnote_cell_type": "markdown"
   },
   "source": [
    "### 1.2. Code cells\n",
    "\n",
    "Other cells contain code in the Python 3 language. Running a code cell will execute all of the code it contains.\n",
    "\n",
    "To run the code in a code cell, first click on that cell to activate it.  It'll be highlighted with a little green or blue rectangle.  Next, either press `▶` or hold down `shift` + press `return`.\n",
    "\n",
    "Try running this cell:"
   ]
  },
  {
   "cell_type": "code",
   "execution_count": 7,
   "metadata": {
    "cell_id": "00007-20ac2463-dd12-4d49-83aa-fb3bce5930d9",
    "deepnote_cell_type": "code",
    "deepnote_to_be_reexecuted": false,
    "execution_millis": 7,
    "execution_start": 1610475552491,
    "source_hash": "a8a44a2d"
   },
   "outputs": [],
   "source": [
    "print(\"Hello, world!\")"
   ]
  },
  {
   "cell_type": "markdown",
   "metadata": {
    "cell_id": "00008-c64735f4-ca23-4306-929d-82cb5b934889",
    "deepnote_cell_type": "markdown"
   },
   "source": [
    "And this one:"
   ]
  },
  {
   "cell_type": "code",
   "execution_count": 8,
   "metadata": {
    "cell_id": "00009-a0624926-3f74-4703-b596-7c7864f19991",
    "deepnote_cell_type": "code",
    "deepnote_to_be_reexecuted": false,
    "execution_millis": 11,
    "execution_start": 1610475553115,
    "source_hash": "3086cb8b"
   },
   "outputs": [],
   "source": [
    "print(\"\\N{WAVING HAND SIGN}, \\N{EARTH GLOBE ASIA-AUSTRALIA}!\")"
   ]
  },
  {
   "cell_type": "markdown",
   "metadata": {
    "cell_id": "00010-f0c038eb-5998-48f0-9e81-f7c035f25347",
    "deepnote_cell_type": "markdown"
   },
   "source": [
    "The fundamental building block of Python code is an expression. Cells can contain multiple lines with multiple expressions. When you run a cell, the lines of code are executed in the order in which they appear. Every `print` expression prints a line. Run the next cell and notice the order of the output."
   ]
  },
  {
   "cell_type": "code",
   "execution_count": 9,
   "metadata": {
    "cell_id": "00011-8c5292f7-8078-43d5-a91a-8e689fb52f07",
    "deepnote_cell_type": "code",
    "deepnote_to_be_reexecuted": false,
    "deletable": false,
    "execution_millis": 1,
    "execution_start": 1610475553699,
    "source_hash": "c21a1a0b"
   },
   "outputs": [],
   "source": [
    "print(\"First this line is printed,\")\n",
    "print(\"and then this one.\")"
   ]
  },
  {
   "cell_type": "markdown",
   "metadata": {
    "cell_id": "00012-03a86212-04be-42c2-a54a-d94b3fc294ac",
    "deepnote_cell_type": "markdown"
   },
   "source": [
    "### 1.3. Writing notebooks\n",
    "\n",
    "You can use Jupyter notebooks for your own projects or documents.  When you make your own notebook, you'll need to create your own cells for text and code.\n",
    "\n",
    "To add a cell, click the + button in the menu bar.  It'll start out as a text cell.  You can change it to a code cell by clicking inside it so it's highlighted, clicking the drop-down box next to the restart (⟳) button in the menu bar, and choosing \"Code\"."
   ]
  },
  {
   "cell_type": "markdown",
   "metadata": {
    "cell_id": "00013-8c116f81-2555-4184-bae5-363eb5d2b007",
    "deepnote_cell_type": "markdown",
    "tags": []
   },
   "source": [
    "**Question 1.3.1.** Add a code cell below this one.  Write code in it that prints out:\n",
    "   \n",
    "    Econometrics is what econometricians do.\n",
    "\n",
    "Run your cell to verify that it works."
   ]
  },
  {
   "cell_type": "markdown",
   "metadata": {
    "cell_id": "00013-505df22b-8365-4e19-9b89-f5d393c5637e",
    "deepnote_cell_type": "markdown"
   },
   "source": [
    "### 1.4. \"Errors\"\n",
    "\n",
    "Python is a language, and like natural human languages, it has rules.  It differs from natural language in two important ways:\n",
    "\n",
    "1. The rules are *simple*. You will get the hang of them in a few weeks.\n",
    "2. The rules are *rigid*. If you're proficient in a natural language, you can understand a non-proficient speaker, glossing over small mistakes.  A computer running Python code is not smart enough to do that.\n",
    "\n",
    "Whenever you write code, you'll make mistakes.  When you run a code cell that has errors, Python will sometimes produce error messages to tell you what you did wrong.\n",
    "\n",
    "Errors are okay; even experienced programmers make many errors.  When you make an error, you just have to find the source of the problem, fix it, and move on.\n",
    "\n",
    "We have made an error in the next code cell.  Run it and see what happens."
   ]
  },
  {
   "cell_type": "markdown",
   "metadata": {
    "cell_id": "00014-3dc07b8a-9fc1-4e61-9d3b-3ca72c956972",
    "deepnote_cell_type": "markdown"
   },
   "source": [
    "(**Note:** In the toolbar, there is the option to click `Cell > Run All`, which will run all the code cells in this notebook in order. However, the notebook stops running code cells if it hits an error, like the one in the cell just below.)"
   ]
  },
  {
   "cell_type": "code",
   "execution_count": 10,
   "metadata": {
    "cell_id": "00015-5672507c-ed36-4546-9d46-fc73033bccf6",
    "deepnote_cell_type": "code",
    "deepnote_to_be_reexecuted": false,
    "deletable": false,
    "execution_millis": 12,
    "execution_start": 1610475555325,
    "scrolled": true,
    "source_hash": "4f28ac3c"
   },
   "outputs": [],
   "source": [
    "print(\"This line is missing something.\""
   ]
  },
  {
   "cell_type": "markdown",
   "metadata": {
    "cell_id": "00016-0bb54206-03ed-4bcc-bd48-2be7d60f6739",
    "deepnote_cell_type": "markdown"
   },
   "source": [
    "You should see something like this (minus our annotations):\n",
    "\n",
    "<img src=\"error.jpg\" width=\"1000\" />\n",
    "\n",
    "The last line of the error output attempts to tell you what went wrong.  The *syntax* of a language is its structure, and this `SyntaxError` tells you that you have created an illegal structure.  \"`EOF`\" means \"end of file,\" so the message is saying Python expected you to write something more (in this case, a right parenthesis) before finishing the cell.\n",
    "\n",
    "There's a lot of terminology in programming languages, but you don't need to know it all in order to program effectively. \n",
    "If you see a cryptic message like this, you can often get by without deciphering it.  (Of course, if you're frustrated, feel free to ask course staff member for help.)\n",
    "\n",
    "Try to fix the code above so that you can run the cell and see the intended message instead of an error."
   ]
  },
  {
   "cell_type": "code",
   "execution_count": 11,
   "metadata": {
    "cell_id": "00017-374c9783-143f-4778-a71b-a79d2f45b5f4",
    "deepnote_cell_type": "code",
    "deepnote_to_be_reexecuted": false,
    "execution_millis": 2,
    "execution_start": 1610475556785,
    "for_assignment_type": "solution",
    "source_hash": "deb989a7"
   },
   "outputs": [],
   "source": [
    "print(\"This line is missing something.\")"
   ]
  },
  {
   "cell_type": "markdown",
   "metadata": {
    "cell_id": "00018-2e5f51ce-a1cd-43eb-9bd1-144eeabab331",
    "deepnote_cell_type": "markdown",
    "tags": []
   },
   "source": [
    "### 1.5. The kernel\n",
    "\n",
    "The kernel is a program that executes the code inside your notebook and outputs the results. In the top right of your window, you can see a circle that indicates the status of your kernel. If the circle is empty (⚪), the kernel is idle and ready to execute code. If the circle is filled in (⚫), the kernel is busy running some code. \n",
    "\n",
    "Next to every code cell, you'll see some text that says `In [...]`. Before you run the cell, you'll see `In [ ]`. When the cell is running, you'll see `In [*]`. If you see an asterisk (\\*) next to a cell that doesn't go away, it's likely that the code inside the cell is taking too long to run, and it might be a good time to interrupt the kernel (discussed below). When a cell is finished running, you'll see a number inside the brackets, like so: `In [1]`. The number corresponds to the order in which you run the cells; so, the first cell you run will show a 1 when it's finished running, the second will show a 2, and so on. \n",
    "\n",
    "You may run into problems where your kernel is stuck for an excessive amount of time, your notebook is very slow and unresponsive, or your kernel loses its connection. If this happens, try the following steps:\n",
    "1. At the top of your screen, click **Kernel**, then **Interrupt**.\n",
    "2. If that doesn't help, click **Kernel**, then **Restart**. If you do this, you will have to run your code cells from the start of your notebook up until where you paused your work.\n",
    "3. If that doesn't help, restart your server. First, save your work by clicking **File** at the top left of your screen, then **Save and Checkpoint**. Next, click **Control Panel** at the top right. Choose **Stop My Server** to shut it down, then **Start My Server** to start it back up. Then, navigate back to the notebook you were working on. You'll still have to run your code cells again."
   ]
  },
  {
   "cell_type": "markdown",
   "metadata": {
    "cell_id": "00019-1b8fb466-a0aa-4d08-b307-b50cf83c49e8",
    "deepnote_cell_type": "markdown"
   },
   "source": [
    "### 1.6. Libraries\n",
    "\n",
    "There are many add-ons and extensions to the core of Python that are useful to using it to get work done. They are contained in what are called libraries. The rest of this notebook needs three libraries. So let us tell Python to install them. Run the code cell below to do so.\n",
    "\n",
    "We will first import the packages we need. The following 3 lines imports `numpy`, `pandas`, and `matplotlib` respectively. \n",
    "Note that we imported `pandas` as `pd`, `numpy` as `np`, and `matplotlib.pyplot` as plt. \n",
    "This means that, for example, when we call functions in `pandas`, we will always reference them with `pd` first. "
   ]
  },
  {
   "cell_type": "code",
   "execution_count": 1,
   "metadata": {
    "cell_id": "00020-39bd6779-45fe-4a50-a196-75e6808a94f1",
    "deepnote_cell_type": "code",
    "deepnote_to_be_reexecuted": false,
    "execution_millis": 7081,
    "execution_start": 1610475559584,
    "source_hash": "10f73314"
   },
   "outputs": [],
   "source": [
    "import numpy as np\n",
    "import pandas as pd\n",
    "import matplotlib.pyplot as plt"
   ]
  },
  {
   "cell_type": "markdown",
   "metadata": {
    "cell_id": "00021-d57e56b8-54b8-4fb3-a1e3-4a5414eb35ff",
    "deepnote_cell_type": "markdown"
   },
   "source": [
    "## 2. Python: Numbers & Variables\n",
    "\n",
    "Quantitative information arises everywhere in economics. In addition to representing commands to print out lines, expressions can represent numbers and methods of combining numbers. The expression `3.2500` evaluates to the number 3.25. (Run the cell and see.)"
   ]
  },
  {
   "cell_type": "code",
   "execution_count": 13,
   "metadata": {
    "cell_id": "00022-bab86e03-c05c-42f1-94af-de0ea24815ac",
    "deepnote_cell_type": "code",
    "deepnote_to_be_reexecuted": false,
    "execution_millis": 2,
    "execution_start": 1610475566669,
    "source_hash": "6b5a05b0",
    "tags": []
   },
   "outputs": [],
   "source": [
    "3.2500"
   ]
  },
  {
   "cell_type": "markdown",
   "metadata": {
    "cell_id": "00023-0657b702-c84d-4cd8-b070-07f71bde52d0",
    "deepnote_cell_type": "markdown"
   },
   "source": [
    "Notice that we didn't have to `print`. When you run a notebook cell, if the last line has a value, then Jupyter helpfully prints out that value for you. However, it won't print out prior lines automatically."
   ]
  },
  {
   "cell_type": "code",
   "execution_count": 14,
   "metadata": {
    "cell_id": "00024-a851beca-73c4-4c51-90c1-ec13c787eac1",
    "deepnote_cell_type": "code",
    "deepnote_to_be_reexecuted": false,
    "execution_millis": 10,
    "execution_start": 1610475566675,
    "scrolled": true,
    "source_hash": "200996a9"
   },
   "outputs": [],
   "source": [
    "print(2)\n",
    "3\n",
    "4"
   ]
  },
  {
   "cell_type": "markdown",
   "metadata": {
    "cell_id": "00025-e19b8fa8-647f-40d7-afa0-07397d00874a",
    "deepnote_cell_type": "markdown"
   },
   "source": [
    "Above, you should see that 4 is the value of the last expression, 2 is printed, but 3 is lost because it was neither printed nor last.\n",
    "\n",
    "You don't want to print everything all the time anyway. But if you feel sorry for 3, change the cell above to print it."
   ]
  },
  {
   "cell_type": "markdown",
   "metadata": {
    "cell_id": "00026-3330105c-04e4-4989-a392-a6c7176a575c",
    "deepnote_cell_type": "markdown"
   },
   "source": [
    "### 2.1. Arithmetic\n",
    "\n",
    "The line in the next cell subtracts.  Its value is what you'd expect.  Run it."
   ]
  },
  {
   "cell_type": "code",
   "execution_count": 15,
   "metadata": {
    "cell_id": "00027-890964de-b91b-44df-9f33-c990a083cf35",
    "deepnote_cell_type": "code",
    "deepnote_to_be_reexecuted": false,
    "execution_millis": 5,
    "execution_start": 1610475566689,
    "source_hash": "e40f2e60"
   },
   "outputs": [],
   "source": [
    "3.25 - 1.5"
   ]
  },
  {
   "cell_type": "markdown",
   "metadata": {
    "cell_id": "00028-59ce6f01-4d8a-4ae6-8baa-f79d91c6d2f0",
    "deepnote_cell_type": "markdown"
   },
   "source": [
    "Many basic arithmetic operations are built into Python.  The Data 8 textbook section on [Expressions](http://www.inferentialthinking.com/chapters/03/1/expressions.html) describes all the arithmetic operators used in the course. \n",
    "The common operator that differs from typical math notation is `**`, which raises one number to the power of the other. So, `2**3` stands for $2^3$ and evaluates to 8. \n",
    "\n",
    "The order of operations is the same as what you learned in elementary school, and Python also has parentheses.  For example, compare the outputs of the cells below. The second cell uses parentheses for a happy new year!"
   ]
  },
  {
   "cell_type": "code",
   "execution_count": 16,
   "metadata": {
    "cell_id": "00029-97757b9d-1b0f-49a6-9953-fa4ca7babb8c",
    "deepnote_cell_type": "code",
    "deepnote_to_be_reexecuted": false,
    "execution_millis": 4,
    "execution_start": 1610475566699,
    "source_hash": "e8257ac"
   },
   "outputs": [],
   "source": [
    "5+6*5-6*3**2*2**3/4*7"
   ]
  },
  {
   "cell_type": "code",
   "execution_count": 17,
   "metadata": {
    "cell_id": "00030-8a2c6092-56ba-472a-b79a-df103aa1d4b3",
    "deepnote_cell_type": "code",
    "deepnote_to_be_reexecuted": false,
    "execution_millis": 1,
    "execution_start": 1610475566708,
    "source_hash": "197a43b6"
   },
   "outputs": [],
   "source": [
    "5+(6*5-(6*3))**2*((2**3)/4*7)"
   ]
  },
  {
   "cell_type": "markdown",
   "metadata": {
    "cell_id": "00031-e63c340c-2e30-4535-8875-669b6ebc67ec",
    "deepnote_cell_type": "markdown"
   },
   "source": [
    "In standard math notation, the first expression is\n",
    "\n",
    "$$5 + 6 \\times 5 - 6 \\times 3^2 \\times \\frac{2^3}{4} \\times 7,$$\n",
    "\n",
    "while the second expression is\n",
    "\n",
    "$$5 + (6 \\times 5 - (6 \\times 3))^2 \\times (\\frac{(2^3)}{4} \\times 7).$$"
   ]
  },
  {
   "cell_type": "markdown",
   "metadata": {
    "cell_id": "00033-acc50ecc-0e6b-412e-930a-6c4dd7fcf1a5",
    "deepnote_cell_type": "markdown",
    "tags": []
   },
   "source": [
    "**Question 2.1.1.** Write a Python expression in this next cell that's equal to $5 \\times (3 \\frac{10}{11}) - 50 \\frac{1}{3} + 2^{.5 \\times 22} - \\frac{7}{33} + 4$.  \n",
    "That's five times three and ten elevenths, minus fifty and a third, plus two to the power of half twenty-two, minus seven thirty-thirds plus four.  \n",
    "By \"$3 \\frac{10}{11}$\" we mean $3+\\frac{10}{11}$, not $3 \\times \\frac{10}{11}$.\n",
    "\n",
    "Replace the ellipses (`...`) with your expression.  Try to use parentheses only when necessary.\n",
    "\n",
    "*Hint:* The correct output should start with a familiar number."
   ]
  },
  {
   "cell_type": "code",
   "execution_count": 18,
   "metadata": {
    "cell_id": "00032-db993bd0-f79e-47cd-ba8d-65886134184f",
    "deepnote_cell_type": "code",
    "deepnote_to_be_reexecuted": false,
    "deletable": false,
    "execution_millis": 1,
    "execution_start": 1610475574617,
    "source_hash": "1f85637f"
   },
   "outputs": [],
   "source": [
    "..."
   ]
  },
  {
   "cell_type": "markdown",
   "metadata": {
    "cell_id": "00033-922e7947-1141-4f6c-9ede-fc776d6cd540",
    "deepnote_cell_type": "markdown"
   },
   "source": [
    "### 2.2. Variables\n",
    "\n",
    "In natural language, we have terminology that lets us quickly reference very complicated concepts.  We don't say, \"That's a large mammal with brown fur and sharp teeth!\"  Instead, we just say, \"Bear!\"\n",
    "\n",
    "In Python, we do this with *assignment statements*. An assignment statement has a name on the left side of an `=` sign and an expression to be evaluated on the right."
   ]
  },
  {
   "cell_type": "code",
   "execution_count": 19,
   "metadata": {
    "cell_id": "00034-61eb6cb1-401f-46b8-b5e8-3384858eb012",
    "deepnote_cell_type": "code",
    "deepnote_to_be_reexecuted": false,
    "execution_millis": 1,
    "execution_start": 1610475575443,
    "source_hash": "42fbeeaf"
   },
   "outputs": [],
   "source": [
    "ten = 3 * 2 + 4"
   ]
  },
  {
   "cell_type": "markdown",
   "metadata": {
    "cell_id": "00035-4f419d3b-052c-4327-ad80-7fc0f6d8e381",
    "deepnote_cell_type": "markdown"
   },
   "source": [
    "When you run that cell, Python first computes the value of the expression on the right-hand side, `3 * 2 + 4`, which is the number 10.  Then it assigns that value to the name `ten`.  At that point, the code in the cell is done running.\n",
    "\n",
    "After you run that cell, the value 10 is bound to the name `ten`:"
   ]
  },
  {
   "cell_type": "code",
   "execution_count": 20,
   "metadata": {
    "cell_id": "00036-678a5cc4-f02c-40c1-be93-f2183ba3719c",
    "deepnote_cell_type": "code",
    "deepnote_to_be_reexecuted": false,
    "execution_millis": 4,
    "execution_start": 1610475576814,
    "source_hash": "d8b71231"
   },
   "outputs": [],
   "source": [
    "ten"
   ]
  },
  {
   "cell_type": "markdown",
   "metadata": {
    "cell_id": "00037-87c1df81-94d9-4043-9260-56bb052587d8",
    "deepnote_cell_type": "markdown"
   },
   "source": [
    "The statement `ten = 3 * 2 + 4` is not asserting that `ten` is already equal to `3 * 2 + 4`, as we might expect by analogy with math notation.  Rather, that line of code changes what `ten` means; it now refers to the value 10, whereas before it meant nothing at all."
   ]
  },
  {
   "cell_type": "markdown",
   "metadata": {
    "cell_id": "00040-37e23992-6be8-4ff5-83bd-f931a705c103",
    "deepnote_cell_type": "markdown",
    "tags": []
   },
   "source": [
    "**Question 2.2.1.** Try writing code that uses a name (like `eleven`) that hasn't been assigned to anything.  You'll see an error!"
   ]
  },
  {
   "cell_type": "code",
   "execution_count": 21,
   "metadata": {
    "cell_id": "00038-866b116e-8b37-4d74-98e8-b1d6f878f91e",
    "deepnote_cell_type": "code",
    "deepnote_to_be_reexecuted": false,
    "execution_millis": 0,
    "execution_start": 1610475577534,
    "source_hash": "1f85637f"
   },
   "outputs": [],
   "source": [
    "..."
   ]
  },
  {
   "cell_type": "markdown",
   "metadata": {
    "cell_id": "00039-8159ee4b-72a8-4a4f-ae92-003c7e5db572",
    "deepnote_cell_type": "markdown"
   },
   "source": [
    "A common pattern in Jupyter notebooks is to assign a value to a name and then immediately evaluate the name in the last line in the cell so that the value is displayed as output. "
   ]
  },
  {
   "cell_type": "code",
   "execution_count": 22,
   "metadata": {
    "cell_id": "00040-a68ecc61-2882-40db-9733-2bef40a7737a",
    "deepnote_cell_type": "code",
    "deepnote_to_be_reexecuted": false,
    "execution_millis": 5,
    "execution_start": 1610475578216,
    "source_hash": "84e41d80"
   },
   "outputs": [],
   "source": [
    "close_to_pi = 355/113\n",
    "close_to_pi"
   ]
  },
  {
   "cell_type": "markdown",
   "metadata": {
    "cell_id": "00041-48654391-c4da-4b6c-9e70-09b8b05a188d",
    "deepnote_cell_type": "markdown"
   },
   "source": [
    "Another common pattern is that a series of lines in a single cell will build up a complex computation in stages, naming the intermediate results."
   ]
  },
  {
   "cell_type": "code",
   "execution_count": 23,
   "metadata": {
    "cell_id": "00042-45a1c325-78e0-4efa-b2c9-ba07cec6f30a",
    "deepnote_cell_type": "code",
    "deepnote_to_be_reexecuted": false,
    "execution_millis": 8,
    "execution_start": 1610475579581,
    "source_hash": "f49d2e00"
   },
   "outputs": [],
   "source": [
    "semimonthly_salary = 841.25\n",
    "monthly_salary = 2 * semimonthly_salary\n",
    "number_of_months_in_a_year = 12\n",
    "yearly_salary = number_of_months_in_a_year * monthly_salary\n",
    "yearly_salary"
   ]
  },
  {
   "cell_type": "markdown",
   "metadata": {
    "cell_id": "00043-96cffeb9-84bb-44d0-ac24-b7ddbb4e807c",
    "deepnote_cell_type": "markdown"
   },
   "source": [
    "Names in Python can have letters (upper- and lower-case letters are both okay and count as different letters), underscores, and numbers.  The first character can't be a number (otherwise a name might look like a number).  And names can't contain spaces, since spaces are used to separate pieces of code from each other.\n",
    "\n",
    "Other than those rules, what you name something doesn't matter *to Python*.  For example, this cell does the same thing as the above cell, except everything has a different name:"
   ]
  },
  {
   "cell_type": "code",
   "execution_count": 24,
   "metadata": {
    "cell_id": "00044-28acca63-a847-4e90-8f39-385977cd73c7",
    "deepnote_cell_type": "code",
    "deepnote_to_be_reexecuted": false,
    "execution_millis": 1,
    "execution_start": 1610475580991,
    "source_hash": "fa245a47"
   },
   "outputs": [],
   "source": [
    "a = 841.25\n",
    "b = 2 * a\n",
    "c = 12\n",
    "d = c * b\n",
    "d"
   ]
  },
  {
   "cell_type": "markdown",
   "metadata": {
    "cell_id": "00045-3e2fb9c7-459b-4faa-b8c9-f7661f7d11ef",
    "deepnote_cell_type": "markdown"
   },
   "source": [
    "**However**, names are very important for making your code *readable* to yourself and others.  The cell above is shorter, but it's totally useless without an explanation of what it does."
   ]
  },
  {
   "cell_type": "markdown",
   "metadata": {
    "cell_id": "00046-26f3705d-f493-42d8-82f0-4375c916cb41",
    "deepnote_cell_type": "markdown"
   },
   "source": [
    "### 2.3. Checking your code\n",
    "\n",
    "Our notebooks include built-in *tests* to check whether your work is correct. Sometimes, there are multiple tests for a single question, and passing all of them is required to receive credit for the question. Please don't change the contents of the test cells.\n",
    "\n",
    "Run the next code cell to initialize the tests:"
   ]
  },
  {
   "cell_type": "code",
   "execution_count": 2,
   "metadata": {
    "cell_id": "00047-619db3ed-b444-40e3-9882-64dc63b3c53f",
    "deepnote_cell_type": "code",
    "deepnote_to_be_reexecuted": false,
    "execution_millis": 7019,
    "execution_start": 1610475979121,
    "source_hash": "448d0f84"
   },
   "outputs": [],
   "source": [
    "# Run this code cell to initialize the autograder\n",
    "import otter\n",
    "grader = otter.Notebook()"
   ]
  },
  {
   "cell_type": "markdown",
   "metadata": {
    "cell_id": "00048-838707cb-0fc7-47aa-815e-272214e7ad0a",
    "deepnote_cell_type": "markdown"
   },
   "source": [
    "Go ahead and attempt Question 2.3.1. Running the cell directly after it will test whether you have assigned `seconds_in_a_decade` correctly. \n",
    "If you haven't, this test will tell you the correct answer. Resist the urge to just copy it, and instead try to adjust your expression."
   ]
  },
  {
   "cell_type": "markdown",
   "metadata": {
    "cell_id": "00049-7a9afa11-19ce-46cb-b2f1-078a76450af1",
    "deepnote_cell_type": "markdown",
    "deletable": false,
    "editable": false
   },
   "source": [
    "**Question 2.3.1.** Assign the name `seconds_in_a_decade` to the number of seconds between midnight January 1, 2010 and midnight January 1, 2020. Note that there are two leap years in this span of a decade. A non-leap year has 365 days and a leap year has 366 days.\n",
    "\n",
    "<!--\n",
    "BEGIN QUESTION\n",
    "name: q2_3_1\n",
    "-->"
   ]
  },
  {
   "cell_type": "code",
   "execution_count": 67,
   "metadata": {
    "cell_id": "00050-737a091e-e39b-4cea-b169-c6b9569d4442",
    "deepnote_cell_type": "code",
    "deepnote_to_be_reexecuted": false,
    "execution_millis": 1,
    "execution_start": 1610476001241,
    "source_hash": "1a6cf9dc",
    "tags": []
   },
   "outputs": [],
   "source": [
    "# Change the next line so that it computes the number of seconds in a decade \n",
    "# and assigns that number the name, seconds_in_a_decade.\n",
    "\n",
    "seconds_in_a_decade = ...\n",
    "\n",
    "# We've put this line in this cell so that it will print the value you've given \n",
    "# to seconds_in_a_decade when you run it. You don't need to change this.\n",
    "\n",
    "seconds_in_a_decade"
   ]
  },
  {
   "cell_type": "code",
   "execution_count": null,
   "metadata": {
    "deletable": false,
    "editable": false
   },
   "outputs": [],
   "source": [
    "grader.check(\"q2_3_1\")"
   ]
  },
  {
   "cell_type": "markdown",
   "metadata": {
    "cell_id": "00052-028eaad7-8e5a-4eb1-93c9-a6d66631706a",
    "deepnote_cell_type": "markdown",
    "tags": []
   },
   "source": [
    "If the autograder found that you had set the right variable(s) to the proper value(s) that it expected, well and good: you are probably not far off track. If you failed any of the tests, go back and think again — and if you are still stuck, ask for help."
   ]
  },
  {
   "cell_type": "markdown",
   "metadata": {
    "cell_id": "00053-b91c6c07-d79d-4b69-8d18-4fc35b20e75f",
    "deepnote_cell_type": "markdown"
   },
   "source": [
    "### 2.4. Sequences (Edit note: maybe we don't teach lists and just jump to arrays like Data 8)\n",
    "\n",
    "Lists and their siblings, `numpy` arrays, are ordered collections of objects. \n",
    "Lists allow us to store groups of variables under one name. \n",
    "The order then allows us to access the objects in the list for easy access and analysis. \n",
    "If you want an in-depth look at the capabilities of lists, take a look [here](https://www.tutorialspoint.com/python/python_lists.htm).\n",
    "\n",
    "To initialize a list, you use brackets. Putting objects separated by commas in between the brackets will add them to the list. For example, we can create and name an empty list:"
   ]
  },
  {
   "cell_type": "code",
   "execution_count": 69,
   "metadata": {
    "cell_id": "00054-74808665-d2ec-484d-a188-24e9496ee196",
    "deepnote_cell_type": "code",
    "deepnote_to_be_reexecuted": false,
    "execution_millis": 0,
    "execution_start": 1610476002827,
    "source_hash": "ad6645c7"
   },
   "outputs": [],
   "source": [
    "list_example = []\n",
    "list_example"
   ]
  },
  {
   "cell_type": "markdown",
   "metadata": {
    "cell_id": "00055-7c1b9bf4-da87-4d5d-ad9f-a95c72c98186",
    "deepnote_cell_type": "markdown"
   },
   "source": [
    "Or we can create a list with a couple of elements:"
   ]
  },
  {
   "cell_type": "code",
   "execution_count": 70,
   "metadata": {
    "cell_id": "00056-45c04543-527d-4fc5-9788-0d04dd4bba1f",
    "deepnote_cell_type": "code",
    "deepnote_to_be_reexecuted": false,
    "execution_millis": 1,
    "execution_start": 1610476003330,
    "source_hash": "e22525b7"
   },
   "outputs": [],
   "source": [
    "list_example_two = [3, 5, 100, \"hello\"]\n",
    "list_example_two"
   ]
  },
  {
   "cell_type": "markdown",
   "metadata": {
    "cell_id": "00057-0d0fbdbf-9d2d-4f41-96c2-bfca39a4ad2f",
    "deepnote_cell_type": "markdown"
   },
   "source": [
    "### (Edit note: remove concatenation)\n",
    "\n",
    "We can use the `+` sign between two lists to \"concatenate\" them together:\n",
    "    "
   ]
  },
  {
   "cell_type": "code",
   "execution_count": 71,
   "metadata": {
    "cell_id": "00058-8f9b937a-f782-4aac-af45-d9a606b6e92b",
    "deepnote_cell_type": "code",
    "deepnote_to_be_reexecuted": false,
    "execution_millis": 4,
    "execution_start": 1610476003821,
    "source_hash": "e7f846ed"
   },
   "outputs": [],
   "source": [
    "list_example_three = list_example_two + [1, 3, 6, 'lists', 'are', 'fun', 4]\n",
    "list_example_three"
   ]
  },
  {
   "cell_type": "markdown",
   "metadata": {
    "cell_id": "00059-8b2dffc2-ecc0-4eb9-9684-12ad1a334cc9",
    "deepnote_cell_type": "markdown"
   },
   "source": [
    "To access an individual value in the list, simply count from the start of the list, and put the place of the object you want to access in brackets after the name of the list. \n",
    "Importantly, you have to start counting from not 1 but 0. \n",
    "Thus the initial object of a list has index 0, the second object of a list has index 1, and in the list above the fourth object has index 3:"
   ]
  },
  {
   "cell_type": "code",
   "execution_count": 72,
   "metadata": {
    "cell_id": "00060-44357eaf-32d5-41e8-8c92-7773ec817eb6",
    "deepnote_cell_type": "code",
    "deepnote_to_be_reexecuted": false,
    "execution_millis": 4,
    "execution_start": 1610476004928,
    "source_hash": "5d005d0b"
   },
   "outputs": [],
   "source": [
    "fourth_element = list_example_three[3]\n",
    "fourth_element"
   ]
  },
  {
   "cell_type": "markdown",
   "metadata": {
    "cell_id": "00061-49f5ea7e-3069-47f6-aea4-72a6fb0a4bc0",
    "deepnote_cell_type": "markdown"
   },
   "source": [
    "Lists do not have to be made up of elements of the same kind. \n",
    "Indices do not have to be taken one at a time, either. \n",
    "Instead, we can take a slice of indices and return the elements at those indices as a separate list. \n",
    "\n",
    "Suppose we just want to select out items 4 through 6 from a list. We can do so by 'slicing' from index 4 to 7. \n",
    "Note that in Python indexing, the element at the left index number is included while the element at the right number is excluded.\n",
    "\n",
    "### (Edit note: remove slicing)"
   ]
  },
  {
   "cell_type": "code",
   "execution_count": 73,
   "metadata": {
    "cell_id": "00062-918ca070-e553-438f-ab26-2e4c47d9cb3c",
    "deepnote_cell_type": "code",
    "deepnote_to_be_reexecuted": false,
    "execution_millis": 0,
    "execution_start": 1610476005369,
    "source_hash": "61593a4e"
   },
   "outputs": [],
   "source": [
    "selected_list = list_example_three[4:7]\n",
    "selected_list"
   ]
  },
  {
   "cell_type": "markdown",
   "metadata": {
    "cell_id": "00063-d5aeeb0f-f3b6-4d9c-998d-968d5ac9edb0",
    "deepnote_cell_type": "markdown"
   },
   "source": [
    "We can select out the largest and smallest items of a list via `min` and `max`."
   ]
  },
  {
   "cell_type": "code",
   "execution_count": 74,
   "metadata": {
    "cell_id": "00064-f1ca597a-5c2e-4d13-912d-c2d1d8f52ac0",
    "deepnote_cell_type": "code",
    "deepnote_to_be_reexecuted": false,
    "execution_millis": 7,
    "execution_start": 1610476006119,
    "source_hash": "2d088f8a"
   },
   "outputs": [],
   "source": [
    "# A list containing six integers.\n",
    "a_list = [1, 6, 4, 8, 13, 2]\n",
    "\n",
    "# Another list containing six integers.\n",
    "b_list = [4, 5, 2, 14, 9, 11]"
   ]
  },
  {
   "cell_type": "code",
   "execution_count": 75,
   "metadata": {
    "cell_id": "00065-04f3001f-2667-4b2b-b346-2177596c3769",
    "deepnote_cell_type": "code",
    "deepnote_to_be_reexecuted": false,
    "execution_millis": 4,
    "execution_start": 1610476007000,
    "source_hash": "68982b95",
    "tags": []
   },
   "outputs": [],
   "source": [
    "max(a_list)"
   ]
  },
  {
   "cell_type": "code",
   "execution_count": 76,
   "metadata": {
    "cell_id": "00066-723b70fe-fd04-4f0e-81a3-065eb4ac2529",
    "deepnote_cell_type": "code",
    "deepnote_to_be_reexecuted": false,
    "execution_millis": 1,
    "execution_start": 1610476007414,
    "source_hash": "88f80464",
    "tags": []
   },
   "outputs": [],
   "source": [
    "min(b_list)"
   ]
  },
  {
   "cell_type": "markdown",
   "metadata": {
    "cell_id": "00067-0bdc8f78-4f6c-4df8-92f1-e2fc76c6d604",
    "deepnote_cell_type": "markdown",
    "tags": []
   },
   "source": [
    "If we want to find out the length of a list, we can simply use the `len` function."
   ]
  },
  {
   "cell_type": "code",
   "execution_count": 77,
   "metadata": {
    "cell_id": "00068-ad3788d2-c01a-44e7-a62c-311a6035d9e0",
    "deepnote_cell_type": "code",
    "deepnote_to_be_reexecuted": false,
    "execution_millis": 7,
    "execution_start": 1610476007603,
    "source_hash": "fb293e17",
    "tags": []
   },
   "outputs": [],
   "source": [
    "len(a_list)"
   ]
  },
  {
   "cell_type": "markdown",
   "metadata": {
    "cell_id": "00069-ab6ae133-3493-4538-8ef8-6e232ad7bdce",
    "deepnote_cell_type": "markdown"
   },
   "source": [
    "Numpy arrays are siblings of lists that can be operated on arithmetically with much more versatility than regular lists. \n",
    "We can make numpy arrays by passing in a Python list into the function `np.array(...)`.\n",
    "Let us start by making an array that consists of the numbers from zero to nine."
   ]
  },
  {
   "cell_type": "code",
   "execution_count": 78,
   "metadata": {
    "cell_id": "00070-59e1c593-a923-465c-8ee5-53d209c7c4db",
    "deepnote_cell_type": "code",
    "deepnote_to_be_reexecuted": false,
    "execution_millis": 4,
    "execution_start": 1610476008153,
    "source_hash": "4ce7ca0a"
   },
   "outputs": [],
   "source": [
    "example_array = np.array([0, 1, 2, 3, 4, 5, 6, 7, 8, 9])\n",
    "example_array"
   ]
  },
  {
   "cell_type": "markdown",
   "metadata": {
    "cell_id": "00071-9f19f7f5-8dd0-427e-8845-c7abb9da95ca",
    "deepnote_cell_type": "markdown"
   },
   "source": [
    "This could have been accomplished more quickly using `np.arange(...)`, which automatically creates 'ranges'. \n",
    "If only one argument (say `X`) is passed into `np.arange`, it will create an array of length `X` from 0 to `X-1`."
   ]
  },
  {
   "cell_type": "code",
   "execution_count": 79,
   "metadata": {
    "cell_id": "00072-868bc08d-ccff-4447-9ebb-ebbd6f78acc1",
    "deepnote_cell_type": "code",
    "deepnote_to_be_reexecuted": false,
    "execution_millis": 4,
    "execution_start": 1610476009225,
    "source_hash": "9afcb1f0"
   },
   "outputs": [],
   "source": [
    "example_array_2 = np.arange(10)\n",
    "example_array_2"
   ]
  },
  {
   "cell_type": "markdown",
   "metadata": {
    "cell_id": "00073-34e8b29b-d0bf-499b-8b71-df5c8b008a4b",
    "deepnote_cell_type": "markdown"
   },
   "source": [
    "Notably, we can conduct array arithmetic using `numpy` arrays, which 'broadcasts' arithmetic if one of the terms is a scalar.\n"
   ]
  },
  {
   "cell_type": "code",
   "execution_count": 80,
   "metadata": {
    "cell_id": "00074-f29377b8-a2c3-4164-8bad-b3ad917cd4cd",
    "deepnote_cell_type": "code",
    "deepnote_to_be_reexecuted": false,
    "execution_millis": 5,
    "execution_start": 1610476010318,
    "source_hash": "a9ef10b4",
    "tags": []
   },
   "outputs": [],
   "source": [
    "every_number_plus_3 = example_array + 3\n",
    "every_number_plus_3"
   ]
  },
  {
   "cell_type": "code",
   "execution_count": 81,
   "metadata": {
    "cell_id": "00075-562ad7ae-6f75-469f-ad0a-615025b669fe",
    "deepnote_cell_type": "code",
    "deepnote_to_be_reexecuted": false,
    "execution_millis": 4,
    "execution_start": 1610476010490,
    "source_hash": "ad871afa",
    "tags": []
   },
   "outputs": [],
   "source": [
    "every_number_to_the_power_of_2 = example_array ** 2\n",
    "every_number_to_the_power_of_2"
   ]
  },
  {
   "cell_type": "markdown",
   "metadata": {
    "cell_id": "00076-42ecd305-6d75-4671-b5c3-e4db82639e3e",
    "deepnote_cell_type": "markdown",
    "tags": []
   },
   "source": [
    "We can also conduct arithmetic operations between two arrays of the same length."
   ]
  },
  {
   "cell_type": "code",
   "execution_count": 82,
   "metadata": {
    "cell_id": "00077-8031ce7d-37f6-4cd5-87bb-63260c9858a2",
    "deepnote_cell_type": "code",
    "deepnote_to_be_reexecuted": false,
    "execution_millis": 7,
    "execution_start": 1610476011078,
    "source_hash": "9e1811b1",
    "tags": []
   },
   "outputs": [],
   "source": [
    "example_array_doubled = example_array + example_array\n",
    "example_array_doubled"
   ]
  },
  {
   "cell_type": "markdown",
   "metadata": {
    "cell_id": "00078-f34a597b-2378-4abf-9146-0af642d5db2d",
    "deepnote_cell_type": "markdown",
    "tags": []
   },
   "source": [
    "Be careful about differences between lists and `numpy` arrays. \n",
    "For example, multiplying a list and an array by a number produce different results."
   ]
  },
  {
   "cell_type": "code",
   "execution_count": 83,
   "metadata": {
    "cell_id": "00079-39fa38ee-6127-403c-afa6-d38060e797c7",
    "deepnote_cell_type": "code",
    "deepnote_to_be_reexecuted": false,
    "execution_millis": 5,
    "execution_start": 1610476012801,
    "source_hash": "a26a6c46"
   },
   "outputs": [],
   "source": [
    "print('Multiplying a list by 2: ', 2 * b_list)\n",
    "print('Multiplying an array by 2: ',2 * example_array_2)"
   ]
  },
  {
   "cell_type": "markdown",
   "metadata": {
    "cell_id": "00080-6dd1239c-98e3-4b04-b011-6bd9297f23de",
    "deepnote_cell_type": "markdown",
    "deletable": false,
    "editable": false,
    "tags": []
   },
   "source": [
    "**Question 2.4.1.** Assign the name `weird_list` to a list containing the following numbers in the order given:\n",
    "\n",
    "1. -2\n",
    "2. 3 to the power of 4\n",
    "3. 0\n",
    "4. 7 divided by 2\n",
    "\n",
    "<!--\n",
    "BEGIN QUESTION\n",
    "name: q2_4_1\n",
    "-->"
   ]
  },
  {
   "cell_type": "code",
   "execution_count": 84,
   "metadata": {
    "cell_id": "00081-e1769598-f692-4429-a1db-5266bc8bb47b",
    "deepnote_cell_type": "code",
    "deepnote_to_be_reexecuted": false,
    "execution_millis": 4,
    "execution_start": 1610476013292,
    "source_hash": "5fffa53d",
    "tags": []
   },
   "outputs": [],
   "source": [
    "weird_list = ..."
   ]
  },
  {
   "cell_type": "code",
   "execution_count": null,
   "metadata": {
    "deletable": false,
    "editable": false
   },
   "outputs": [],
   "source": [
    "grader.check(\"q2_4_1\")"
   ]
  },
  {
   "cell_type": "markdown",
   "metadata": {
    "cell_id": "00083-19ec5675-aa17-4049-8656-1e9f70761ec2",
    "deepnote_cell_type": "markdown",
    "deletable": false,
    "editable": false,
    "tags": []
   },
   "source": [
    "**Question 2.4.2.** Assign the name `weird_array` to an array containing the following numbers in the order given:\n",
    "\n",
    "1. -2\n",
    "2. 3 to the power of 4\n",
    "3. 0\n",
    "4. 7 divided by 2\n",
    "\n",
    "<!--\n",
    "BEGIN QUESTION\n",
    "name: q2_4_2\n",
    "-->"
   ]
  },
  {
   "cell_type": "code",
   "execution_count": 86,
   "metadata": {
    "cell_id": "00084-41bed9dd-9f69-4769-a156-d2b6df607271",
    "deepnote_cell_type": "code",
    "deepnote_to_be_reexecuted": false,
    "execution_millis": 0,
    "execution_start": 1610476014071,
    "source_hash": "d435274b",
    "tags": []
   },
   "outputs": [],
   "source": [
    "weird_array = ..."
   ]
  },
  {
   "cell_type": "code",
   "execution_count": null,
   "metadata": {
    "deletable": false,
    "editable": false
   },
   "outputs": [],
   "source": [
    "grader.check(\"q2_4_2\")"
   ]
  },
  {
   "cell_type": "markdown",
   "metadata": {
    "cell_id": "00089-03756478-d952-4248-8957-edfd552ec145",
    "deepnote_cell_type": "markdown",
    "tags": []
   },
   "source": [
    "## 3. Programming"
   ]
  },
  {
   "cell_type": "markdown",
   "metadata": {
    "cell_id": "00086-0537485e-0db6-4857-874d-56c0f8294abb",
    "deepnote_cell_type": "markdown"
   },
   "source": [
    "### 3.1. Looping (Edit note: maybe we don't need this)\n",
    "\n",
    "[Loops](https://www.tutorialspoint.com/python/python_loops.htm) are  useful in manipulating, iterating over, or transforming large lists and arrays. \n",
    "The __for__ loop is useful in that it iterates through a list, performing an action at each element. \n",
    "The following code cell prints each element in the array `example_array`. "
   ]
  },
  {
   "cell_type": "code",
   "execution_count": 88,
   "metadata": {
    "cell_id": "00087-9e460f7f-92d2-4c89-9868-3b657ff8fbdb",
    "deepnote_cell_type": "code",
    "deepnote_to_be_reexecuted": false,
    "execution_millis": 5,
    "execution_start": 1610476014824,
    "source_hash": "be8cc673",
    "tags": []
   },
   "outputs": [],
   "source": [
    "for element in example_array:\n",
    "    print(\"The current element is\", element)"
   ]
  },
  {
   "cell_type": "markdown",
   "metadata": {
    "cell_id": "00088-015e04dd-834a-4186-8575-cd463af7c67f",
    "deepnote_cell_type": "markdown",
    "tags": []
   },
   "source": [
    "Here's another example: the following code cell moves through every element in `example_array`, adds it by 5, and copies this sum to a new list."
   ]
  },
  {
   "cell_type": "code",
   "execution_count": 89,
   "metadata": {
    "cell_id": "00089-44819e33-c365-4dff-91af-db17dd948588",
    "deepnote_cell_type": "code",
    "deepnote_to_be_reexecuted": false,
    "execution_millis": 1,
    "execution_start": 1610476014933,
    "source_hash": "d60b2709"
   },
   "outputs": [],
   "source": [
    "new_list = []\n",
    "\n",
    "for element in example_array:\n",
    "    new_element = element + 5\n",
    "    new_list.append(new_element) # <list>.append(X) adds the element X at the end of <list>\n",
    "\n",
    "new_list"
   ]
  },
  {
   "cell_type": "markdown",
   "metadata": {
    "cell_id": "00090-400ff5a1-a4d2-49bc-a4dd-ccb6fb6b8762",
    "deepnote_cell_type": "markdown"
   },
   "source": [
    "The most important line in the above cell is the `for element in ...` line. \n",
    "This statement sets the structure of our  loop, instructing the machine to stop at every element in `example_array`, perform the indicated operations, and then move on. \n",
    "Once Python has stopped at every element in `example_array`, the loop is completed and the final line, which displays `new_list`, is executed. \n",
    "\n",
    "Note that we did not have to use \"element\" to refer to whichever index value the loop is currently operating on. We could have called it almost anything. For example:"
   ]
  },
  {
   "cell_type": "code",
   "execution_count": 90,
   "metadata": {
    "cell_id": "00091-9664f9f8-3d38-46e5-b927-c5de43801bd7",
    "deepnote_cell_type": "code",
    "deepnote_to_be_reexecuted": false,
    "execution_millis": 4,
    "execution_start": 1610476015337,
    "source_hash": "9bf404e1"
   },
   "outputs": [],
   "source": [
    "newer_list = []\n",
    "\n",
    "for completely_arbitrary_name in example_array:\n",
    "    newer_element = completely_arbitrary_name + 5\n",
    "    newer_list.append(newer_element) \n",
    "\n",
    "newer_list"
   ]
  },
  {
   "cell_type": "markdown",
   "metadata": {
    "cell_id": "00092-8a151971-59aa-4869-bd0f-bb66ce60db8f",
    "deepnote_cell_type": "markdown"
   },
   "source": [
    "Instead of iterating through elements of a sequence directly, for loops can also iterate over ranges of numerical values (thus iterating over the indexes of a list). \n",
    "For example:"
   ]
  },
  {
   "cell_type": "code",
   "execution_count": 91,
   "metadata": {
    "cell_id": "00093-7562b78a-e7dc-4b77-bf5c-9114200f0b5c",
    "deepnote_cell_type": "code",
    "deepnote_to_be_reexecuted": false,
    "execution_millis": 6,
    "execution_start": 1610476015680,
    "source_hash": "d56ab487"
   },
   "outputs": [],
   "source": [
    "for i in np.arange(len(example_array)):\n",
    "    print(\"The current element + 4 is\", example_array[i] + 5)"
   ]
  },
  {
   "cell_type": "markdown",
   "metadata": {
    "cell_id": "00094-7b196f0a-07de-4845-9eef-02c1a1946f7c",
    "deepnote_cell_type": "markdown",
    "deletable": false,
    "editable": false,
    "tags": []
   },
   "source": [
    "**Question 3.1.1.** Iterate through every number in the list `every_number_plus_3`, and print out each number subtracted by 3. You should see a sequence from 0 to 9.\n",
    "\n",
    "<!--\n",
    "BEGIN QUESTION\n",
    "name: q3_1_1\n",
    "-->"
   ]
  },
  {
   "cell_type": "code",
   "execution_count": 92,
   "metadata": {
    "cell_id": "00095-28a2da14-c9b5-472e-83f1-7576c148acf0",
    "deepnote_cell_type": "code",
    "deepnote_to_be_reexecuted": false,
    "execution_millis": 5,
    "execution_start": 1610476016372,
    "source_hash": "cad42b14",
    "tags": []
   },
   "outputs": [],
   "source": [
    "for ... in ...:\n",
    "    new_element = ...\n",
    "    print(new_element)"
   ]
  },
  {
   "cell_type": "markdown",
   "metadata": {
    "cell_id": "00096-2904c639-8b4e-4190-9cae-70bd47c93c35",
    "deepnote_cell_type": "markdown"
   },
   "source": [
    "### 3.2. Functions\n",
    "\n",
    "The most common way to combine or manipulate values in Python is by calling functions. Python comes with many built-in functions that perform common operations.\n",
    "\n",
    "For example, the `abs` function takes a single number as its argument and returns the absolute value of that number. Run the next two cells and see if you understand the output."
   ]
  },
  {
   "cell_type": "code",
   "execution_count": 93,
   "metadata": {
    "cell_id": "00097-c74d82ca-640a-4ce2-b1ed-7cb91fd5f6fa",
    "deepnote_cell_type": "code",
    "deepnote_to_be_reexecuted": false,
    "execution_millis": 5,
    "execution_start": 1610476017226,
    "source_hash": "df54122f"
   },
   "outputs": [],
   "source": [
    "abs(5)"
   ]
  },
  {
   "cell_type": "code",
   "execution_count": 94,
   "metadata": {
    "cell_id": "00098-fdc8a09f-ecea-4b4a-b294-afc605325f8a",
    "deepnote_cell_type": "code",
    "deepnote_to_be_reexecuted": false,
    "execution_millis": 0,
    "execution_start": 1610476017549,
    "source_hash": "8bd9dc58"
   },
   "outputs": [],
   "source": [
    "abs(-5)"
   ]
  },
  {
   "cell_type": "markdown",
   "metadata": {
    "cell_id": "00099-d6950271-f595-4262-91c2-8980a0853109",
    "deepnote_cell_type": "markdown",
    "deletable": false
   },
   "source": [
    "**Example: computing walking distances**. Alan is on the corner of 7th Avenue and 42nd Street in Midtown Manhattan, and he wants to know far he'd have to walk to get to Gramercy School on the corner of 10th Avenue and 34th Street.\n",
    "\n",
    "He can't cut across blocks diagonally, since there are buildings in the way.  He has to walk along the sidewalks.  Using the map below, he sees he'd have to walk 3 avenues (long blocks) and 8 streets (short blocks).  In terms of the given numbers, he computed 3 as the difference between 7 and 10, *in absolute value*, and 8 similarly.  \n",
    "\n",
    "Alan also knows that blocks in Manhattan are all about 80m by 274m (avenues are farther apart than streets).  \n",
    "So in total, he'd have to walk $(80 \\times |42 - 34| + 274 \\times |7 - 10|)$ meters to get to the park.\n",
    "\n",
    "<img src=\"map.jpg\" width=\"1000\" />"
   ]
  },
  {
   "cell_type": "markdown",
   "metadata": {
    "cell_id": "00100-8db96c95-a85b-4118-8582-4baaa942821c",
    "deepnote_cell_type": "markdown",
    "deletable": false,
    "editable": false
   },
   "source": [
    "**Question 3.2.1.** Fill in the line `num_avenues_away = ...` in the next cell so that the cell calculates the distance Alan must walk and gives it the name `manhattan_distance`.  \n",
    "Everything else has been filled in for you.  **Use the `abs` function.** Also, be sure to run the test cell afterward to test your code.\n",
    "\n",
    "<!--\n",
    "BEGIN QUESTION\n",
    "name: q3_2_1\n",
    "-->"
   ]
  },
  {
   "cell_type": "code",
   "execution_count": 95,
   "metadata": {
    "cell_id": "00101-5f4f6a5d-353e-4b40-a618-c95a500d9bb5",
    "deepnote_cell_type": "code",
    "deepnote_to_be_reexecuted": false,
    "deletable": false,
    "execution_millis": 10,
    "execution_start": 1610476018208,
    "source_hash": "8e5a14a9"
   },
   "outputs": [],
   "source": [
    "# Here's the number of streets away:\n",
    "num_streets_away = abs(42-34)\n",
    "\n",
    "# Compute the number of avenues away in a similar way:\n",
    "num_avenues_away = ...\n",
    "\n",
    "street_length_m = 80\n",
    "avenue_length_m = 274\n",
    "\n",
    "# Now we compute the total distance Alan must walk\n",
    "manhattan_distance = street_length_m * num_streets_away + avenue_length_m * num_avenues_away\n",
    "\n",
    "# We've included this line so that you see the distance you've computed when you run this cell. \n",
    "# You don't need to change it, but you can if you want.\n",
    "manhattan_distance"
   ]
  },
  {
   "cell_type": "code",
   "execution_count": null,
   "metadata": {
    "deletable": false,
    "editable": false
   },
   "outputs": [],
   "source": [
    "grader.check(\"q3_2_1\")"
   ]
  },
  {
   "cell_type": "markdown",
   "metadata": {
    "cell_id": "00103-93c02d7c-bc39-4c8a-b9c0-867092c5f92a",
    "deepnote_cell_type": "markdown"
   },
   "source": [
    "**Multiple arguments**: Some functions take multiple arguments, separated by commas. For example, the built-in `max` function returns the maximum argument passed to it."
   ]
  },
  {
   "cell_type": "code",
   "execution_count": 97,
   "metadata": {
    "cell_id": "00104-0caf2afe-4fed-46af-9d40-5e5c447db5a2",
    "deepnote_cell_type": "code",
    "deepnote_to_be_reexecuted": false,
    "execution_millis": 4,
    "execution_start": 1610476019642,
    "source_hash": "36596669"
   },
   "outputs": [],
   "source": [
    "max(2, -3, 4, -5)"
   ]
  },
  {
   "cell_type": "markdown",
   "metadata": {
    "cell_id": "00105-2bef496a-0667-4075-94cb-7df4b12ef8a8",
    "deepnote_cell_type": "markdown"
   },
   "source": [
    "### 3.3. Nested expressions\n",
    "Function calls and arithmetic expressions can themselves contain expressions.  You saw an example in the last question:\n",
    "\n",
    "    abs(42-34)\n",
    "\n",
    "has 2 number expressions in a subtraction expression in a function call expression.  And you probably wrote something like `abs(7-10)` to compute `num_avenues_away`.\n",
    "\n",
    "Nested expressions can turn into complicated-looking code. However, the way in which complicated expressions break down is very regular.\n",
    "\n",
    "Suppose we are interested in heights that are very unusual.  We'll say that a height is unusual to the extent that it's far away on the number line from the average human height.  [An estimate](http://press.endocrine.org/doi/full/10.1210/jcem.86.9.7875?ck=nck&) of the average adult human height (averaging, we hope, over all humans on Earth today) is 1.688 meters.\n",
    "\n",
    "So if Kayla is 1.21 meters tall, then her height is $|1.21 - 1.688|$, or $.478$, meters away from the average.  Here's a picture of that:\n",
    "\n",
    "<img src=\"numberline_0.png\" width=\"1000\" />\n",
    "\n",
    "And here's how we'd write that in one line of Python code:"
   ]
  },
  {
   "cell_type": "code",
   "execution_count": 98,
   "metadata": {
    "cell_id": "00106-10e4b9ae-9815-4578-b053-10b2c5a47611",
    "deepnote_cell_type": "code",
    "deepnote_to_be_reexecuted": false,
    "execution_millis": 1,
    "execution_start": 1610476020557,
    "source_hash": "e96b972c"
   },
   "outputs": [],
   "source": [
    "abs(1.21 - 1.688)"
   ]
  },
  {
   "cell_type": "markdown",
   "metadata": {
    "cell_id": "00107-b22af696-82e4-4958-96a6-d8b5d41fd2e4",
    "deepnote_cell_type": "markdown"
   },
   "source": [
    "What's going on here?  `abs` takes just one argument, so the stuff inside the parentheses is all part of that *single argument*.  Specifically, the argument is the value of the expression `1.21 - 1.688`.  The value of that expression is `-.478`.  That value is the argument to `abs`.  The absolute value of that is `.478`, so `.478` is the value of the full expression `abs(1.21 - 1.688)`.\n",
    "\n",
    "Picture simplifying the expression in several steps:\n",
    "\n",
    "1. `abs(1.21 - 1.688)`\n",
    "2. `abs(-.478)`\n",
    "3. `.478`\n",
    "\n",
    "In fact, that's basically what Python does to compute the value of the expression."
   ]
  },
  {
   "cell_type": "markdown",
   "metadata": {
    "cell_id": "00108-8d3b9104-07df-4c06-8f63-9534f8d5049a",
    "deepnote_cell_type": "markdown",
    "deletable": false,
    "editable": false
   },
   "source": [
    "**Question 3.3.1.** Say that Paola's height is 1.76 meters.  In the next cell, use `abs` to compute the absolute value of the difference between Paola's height and the average human height.  Give that value the name `paola_distance_from_average_m`.\n",
    "\n",
    "<img src=\"numberline_1.png\" width=\"1000\" />\n",
    "\n",
    "<!--\n",
    "BEGIN QUESTION\n",
    "name: q3_3_1\n",
    "-->"
   ]
  },
  {
   "cell_type": "code",
   "execution_count": 99,
   "metadata": {
    "cell_id": "00109-9d8e2e94-6350-4563-ab10-489986a6d796",
    "deepnote_cell_type": "code",
    "deepnote_to_be_reexecuted": false,
    "deletable": false,
    "execution_millis": 4,
    "execution_start": 1610476021748,
    "source_hash": "3c4abd9b"
   },
   "outputs": [],
   "source": [
    "# Replace the ... with an expression to compute the absolute value of the \n",
    "# difference between Paola's height (1.76m) and the average human height.\n",
    "paola_distance_from_average_m = ...\n",
    "\n",
    "# Again, we've written this here so that the distance you compute will get \n",
    "# printed when you run this cell.\n",
    "paola_distance_from_average_m"
   ]
  },
  {
   "cell_type": "code",
   "execution_count": null,
   "metadata": {
    "deletable": false,
    "editable": false
   },
   "outputs": [],
   "source": [
    "grader.check(\"q3_3_1\")"
   ]
  },
  {
   "cell_type": "markdown",
   "metadata": {
    "cell_id": "00111-70e1b01b-e87a-422f-a4d5-cf71e5e7073b",
    "deepnote_cell_type": "markdown"
   },
   "source": [
    "Now say that we want to compute the more unusual of the two heights.  We'll use the function `max`, which (again) takes two numbers as arguments and returns the larger of the two arguments.  Combining that with the `abs` function, we can compute the larger distance from average among the two heights:"
   ]
  },
  {
   "cell_type": "code",
   "execution_count": 101,
   "metadata": {
    "cell_id": "00112-7dc7c3d0-4dcb-48e5-910e-a36d15f87fff",
    "deepnote_cell_type": "code",
    "deepnote_to_be_reexecuted": false,
    "execution_millis": 5,
    "execution_start": 1610476022606,
    "source_hash": "ed3c2328"
   },
   "outputs": [],
   "source": [
    "# Just read and run this cell\n",
    "\n",
    "kayla_height_m = 1.21\n",
    "paola_height_m = 1.76\n",
    "average_adult_height_m = 1.688\n",
    "\n",
    "# The larger distance from the average human height, among the two heights:\n",
    "larger_distance_m = max(abs(kayla_height_m - average_adult_height_m), abs(paola_height_m - average_adult_height_m))\n",
    "\n",
    "# Print out our results in a nice readable format:\n",
    "print(\"The larger distance from the average height among these two people is\", larger_distance_m, \"meters.\")"
   ]
  },
  {
   "cell_type": "markdown",
   "metadata": {
    "cell_id": "00113-fc5f805f-fec5-4391-965e-db896b13916c",
    "deepnote_cell_type": "markdown"
   },
   "source": [
    "The line where `larger_distance_m` is computed looks complicated, but we can break it down into simpler components just like we did before.\n",
    "\n",
    "The basic recipe is to repeatedly simplify small parts of the expression:\n",
    "\n",
    "* **Basic expressions:** Start with expressions whose values we know, like names or numbers.\n",
    "    - Examples: `kayla_height_m` or `5`.\n",
    "* **Find the next simplest group of expressions:** Look for basic expressions that are directly connected to each other. This can be by arithmetic or as arguments to a function call. \n",
    "    - Example: `kayla_height_m - average_adult_height_m`.\n",
    "* **Evaluate that group:** Evaluate the arithmetic expression or function call. Use the value computed to replace the group of expressions.  \n",
    "    - Example: `kayla_height_m - average_adult_height_m` becomes `-.478`.\n",
    "* **Repeat:** Continue this process, using the value of the previously-evaluated expression as a new basic expression. Stop when we've evaluated the entire expression.\n",
    "    - Example: `abs(-.478)` becomes `.478`, and `max(.478, .072)` becomes `.478`.\n",
    "\n",
    "You can run the next cell to see a slideshow of that process."
   ]
  },
  {
   "cell_type": "code",
   "execution_count": 102,
   "metadata": {
    "cell_id": "00114-e588052a-136c-4014-a79d-b4776748d6c6",
    "deepnote_cell_type": "code",
    "deepnote_to_be_reexecuted": false,
    "execution_millis": 5,
    "execution_start": 1610476029534,
    "source_hash": "182cbb3c"
   },
   "outputs": [],
   "source": [
    "from IPython.display import IFrame\n",
    "IFrame('https://docs.google.com/presentation/d/e/2PACX-1vTiIUOa9tP4pHPesrI8p2TCp8WCOJtTb3usOacQFPfkEfvQMmX-JYEW3OnBoTmQEJWAHdBP6Mvp053G/embed?start=false&loop=false&delayms=3000', 800, 600)"
   ]
  },
  {
   "cell_type": "markdown",
   "metadata": {
    "cell_id": "00115-c4548ba1-d466-4e50-aa2f-e71d89e32453",
    "deepnote_cell_type": "markdown",
    "deletable": false,
    "editable": false
   },
   "source": [
    "**Question 3.3.2.** Given the heights of players from the Golden State Warriors, write an expression that computes the smallest difference between any of the three heights. Your expression shouldn't have any numbers in it, only function calls and the names `klay`, `steph`, and `draymond`. \n",
    "Give the value of your expression the name `min_height_difference`.\n",
    "\n",
    "<!--\n",
    "BEGIN QUESTION\n",
    "name: q3_3_2\n",
    "-->"
   ]
  },
  {
   "cell_type": "code",
   "execution_count": 103,
   "metadata": {
    "cell_id": "00116-a9f4ef26-0b6e-460b-96b0-1e384294bb2c",
    "deepnote_cell_type": "code",
    "deepnote_to_be_reexecuted": false,
    "deletable": false,
    "execution_millis": 5,
    "execution_start": 1610476030718,
    "source_hash": "fa60a4a5"
   },
   "outputs": [],
   "source": [
    "# The three players' heights, in meters:\n",
    "klay =  2.01 # Klay Thompson is 6'7\"\n",
    "steph = 1.91 # Steph Curry is 6'3\"\n",
    "draymond = 1.98 # Draymond is 6'6\"\n",
    "             \n",
    "# We'd like to look at all 3 pairs of heights, compute the absolute difference \n",
    "# between each pair, and then find the smallest of those 3 absolute differences.  \n",
    "# This is left to you! If you're stuck, try computing the value for each step \n",
    "# of the process (like the difference between Klay's height and Steph's height) \n",
    "# on a separate line and giving it a name (like klay_steph_height_diff)\n",
    "min_height_difference = ...\n",
    "min_height_difference"
   ]
  },
  {
   "cell_type": "code",
   "execution_count": null,
   "metadata": {
    "deletable": false,
    "editable": false
   },
   "outputs": [],
   "source": [
    "grader.check(\"q3_3_2\")"
   ]
  },
  {
   "cell_type": "markdown",
   "metadata": {
    "cell_id": "00118-db74a957-8594-454b-a621-47a1c53f8406",
    "deepnote_cell_type": "markdown"
   },
   "source": [
    "That brings us to the end of the \"Python\" portion of this problem set. \n",
    "\n",
    "The next two sections are much more in the mode of a lecture than an exercise. Follow along to get a taste of the kind of data manipulation and visualization we will be doing using three Python extensions: the numerical Python, Python data analysis, and mathematical plotting libraries `numpy`, `pandas`, and `matplotlib`."
   ]
  },
  {
   "cell_type": "markdown",
   "metadata": {
    "cell_id": "00119-ff832ab3-3e46-439f-961a-d66f69b24fdb",
    "deepnote_cell_type": "markdown"
   },
   "source": [
    "## 4. Data Manipulation\n",
    "\n",
    "We will be using `pandas` in this course for data manipulation and analysis. `pandas` stores data in the form of something called a `DataFrame`, which is really just another word for table."
   ]
  },
  {
   "cell_type": "markdown",
   "metadata": {
    "cell_id": "00121-ad70f7ac-fbb1-4721-b55c-a3135ee2324b",
    "deepnote_cell_type": "markdown",
    "tags": []
   },
   "source": [
    "### 4.1. Reading in a dataset\n",
    "\n",
    "Most of the time, the data we want to analyze will be in a separate file, typically as a `.csv` file. \n",
    "In this case, we want to read the files in and convert them into a tabular format.\n",
    "\n",
    "`pandas` has a specific function to read in csv files called `pd.read_csv(<file_path>)`, with the same relative file path as its argument. \n",
    "\n",
    "The `<dataframe>.head(...)` function will display the first 5 rows of the data frame by default. \n",
    "If you want to specify the number of rows displayed, you can use`dataframe.head(<num_rows>)`.\n",
    "Similarly, if you want to see the last few rows of the data frame, you can use `dataframe.tail(<num_rows>)`. \n",
    "Try it out for yourself!"
   ]
  },
  {
   "cell_type": "code",
   "execution_count": 154,
   "metadata": {
    "cell_id": "00122-b23261db-36b4-4210-802a-35802c689656",
    "deepnote_cell_type": "code",
    "deepnote_to_be_reexecuted": false,
    "execution_millis": 0,
    "execution_start": 1610491957766,
    "source_hash": "22d6c23",
    "tags": []
   },
   "outputs": [],
   "source": [
    "baby_df = pd.read_csv(\"baby.csv\") # df is short for dataframe\n",
    "baby_df.head(5)"
   ]
  },
  {
   "cell_type": "markdown",
   "metadata": {
    "cell_id": "00123-93a47e28-1b9c-41d7-a68b-b24bcdbf4e1f",
    "deepnote_cell_type": "markdown",
    "tags": []
   },
   "source": [
    "### 4.2. Series and arrays\n",
    "\n",
    "\n",
    "One of the primary data types we've encountered so far is the `numpy` array.\n",
    "In `pandas`, there is a very similar, but slightly different data type called a `Series`.\n",
    "\n",
    "You can access the values of a particular column by using `<dataframe>['<column_name>']`. \n",
    "`<dataframe>['<column_name>']` will return a `Series` instead of an array. Notice that you have to write the column name in quotes. Single or double quotes both work fine, but here we use single quotes because it's faster to type.\n",
    "\n"
   ]
  },
  {
   "cell_type": "code",
   "execution_count": 155,
   "metadata": {
    "cell_id": "00124-6c2d6bce-9228-402b-94ac-1ef88403d8c8",
    "deepnote_cell_type": "code",
    "deepnote_to_be_reexecuted": false,
    "execution_millis": 15,
    "execution_start": 1610491958790,
    "source_hash": "8c56e4ba",
    "tags": []
   },
   "outputs": [],
   "source": [
    "baby_df['Birth.Weight']"
   ]
  },
  {
   "cell_type": "markdown",
   "metadata": {
    "cell_id": "00125-fe0be339-693d-4f8d-a555-56622bbe2c11",
    "deepnote_cell_type": "markdown",
    "tags": []
   },
   "source": [
    "In the above example, the first element in the `Birth.Weight` column is the integer 120. The corresponding index is 0.\n",
    "A `Series` object is basically an array with indices for each data point (note that a series' indices can be anything and do not necessarily have to start with 0). \n",
    "\n",
    "A `pandas`  `DataFrame` can be thought of as a collection of Series, all of which have the same index. \n",
    "The resulting `DataFrame` consists of columns where each column is a `Series` and each row has a unique index.\n"
   ]
  },
  {
   "cell_type": "code",
   "execution_count": 156,
   "metadata": {
    "cell_id": "00126-a87b3872-48c4-457d-9166-e5c9698b0010",
    "deepnote_cell_type": "code",
    "deepnote_to_be_reexecuted": false,
    "execution_millis": 41,
    "execution_start": 1610491959150,
    "source_hash": "59ff2a8a",
    "tags": []
   },
   "outputs": [],
   "source": [
    "baby_df.head()"
   ]
  },
  {
   "cell_type": "markdown",
   "metadata": {
    "cell_id": "00127-a4490c4c-00b2-4021-ad89-a02d1b2ebe5e",
    "deepnote_cell_type": "markdown",
    "tags": []
   },
   "source": [
    "### 4.3. Getting the shape of a table\n",
    "\n",
    "The number of rows and columns in a `DataFrame` can be accessed together using the  `.shape` attribute. \n",
    "Notice that the index is not counted as a column."
   ]
  },
  {
   "cell_type": "code",
   "execution_count": 157,
   "metadata": {
    "cell_id": "00128-338a395c-1069-42e9-a27e-d7f794e8d218",
    "deepnote_cell_type": "code",
    "deepnote_to_be_reexecuted": false,
    "execution_millis": 14,
    "execution_start": 1610491959612,
    "source_hash": "6655aad2",
    "tags": []
   },
   "outputs": [],
   "source": [
    "baby_df.shape"
   ]
  },
  {
   "cell_type": "markdown",
   "metadata": {
    "cell_id": "00129-75293d0f-88fb-4ac6-897a-e2bb4c7f01a3",
    "deepnote_cell_type": "markdown",
    "tags": []
   },
   "source": [
    "To get just the number of rows, we want the 0th element."
   ]
  },
  {
   "cell_type": "code",
   "execution_count": 158,
   "metadata": {
    "cell_id": "00130-95809e0f-b39d-4445-8ee2-1f06911a7a00",
    "deepnote_cell_type": "code",
    "deepnote_to_be_reexecuted": false,
    "execution_millis": 13,
    "execution_start": 1610491960564,
    "source_hash": "46faebaa",
    "tags": []
   },
   "outputs": [],
   "source": [
    "baby_df.shape[0]"
   ]
  },
  {
   "cell_type": "markdown",
   "metadata": {
    "cell_id": "00131-f8867a62-f850-46ac-8ea6-e0696469d457",
    "deepnote_cell_type": "markdown",
    "tags": []
   },
   "source": [
    "For just the number of columns, we want the 1st element."
   ]
  },
  {
   "cell_type": "code",
   "execution_count": 159,
   "metadata": {
    "cell_id": "00132-e8b69e64-aba0-4349-a1b2-f892073aa02e",
    "deepnote_cell_type": "code",
    "deepnote_to_be_reexecuted": false,
    "execution_millis": 14,
    "execution_start": 1610491961058,
    "source_hash": "f6c0c2b4",
    "tags": []
   },
   "outputs": [],
   "source": [
    "baby_df.shape[1]"
   ]
  },
  {
   "cell_type": "markdown",
   "metadata": {
    "cell_id": "00133-f31a9f5d-49c3-4090-9186-ed15fa2e6908",
    "deepnote_cell_type": "markdown",
    "tags": []
   },
   "source": [
    "### 4.4. Indices\n",
    "\n",
    "The row labels of a `DataFrame` are collectively called the index. \n",
    "It helps to identify each row. \n",
    "By default, the index values are the row numbers, with the first row having index 0."
   ]
  },
  {
   "cell_type": "code",
   "execution_count": 160,
   "metadata": {
    "cell_id": "00135-776b2772-4770-4ed4-a399-aeae10fdc8ca",
    "deepnote_cell_type": "code",
    "deepnote_to_be_reexecuted": false,
    "execution_millis": 39,
    "execution_start": 1610491961660,
    "source_hash": "59ff2a8a",
    "tags": []
   },
   "outputs": [],
   "source": [
    "baby_df.head()"
   ]
  },
  {
   "cell_type": "markdown",
   "metadata": {
    "cell_id": "00136-b1f302b4-639d-4c87-a6f5-cbf37fb25d05",
    "deepnote_cell_type": "markdown",
    "tags": []
   },
   "source": [
    "We can access the index of a `DataFrame` by calling `DataFrame.index`."
   ]
  },
  {
   "cell_type": "code",
   "execution_count": 161,
   "metadata": {
    "cell_id": "00137-83ba6098-d12f-4186-be5c-e8096cbce009",
    "deepnote_cell_type": "code",
    "deepnote_to_be_reexecuted": false,
    "execution_millis": 20,
    "execution_start": 1610491962580,
    "source_hash": "a2b70d8b",
    "tags": []
   },
   "outputs": [],
   "source": [
    "baby_df.index"
   ]
  },
  {
   "cell_type": "markdown",
   "metadata": {
    "cell_id": "00138-6e80767e-7fe7-41e6-a89c-8a948628ab10",
    "deepnote_cell_type": "markdown",
    "tags": []
   },
   "source": [
    "That doesn't seem too helpful. \n",
    "We can access the values of the index using `.values`."
   ]
  },
  {
   "cell_type": "code",
   "execution_count": 162,
   "metadata": {
    "cell_id": "00139-7502ce47-755c-4a99-824f-63862e8adc37",
    "deepnote_cell_type": "code",
    "deepnote_to_be_reexecuted": false,
    "execution_millis": 13,
    "execution_start": 1610491963066,
    "source_hash": "ad557a71",
    "tags": []
   },
   "outputs": [],
   "source": [
    "baby_df.index.values"
   ]
  },
  {
   "cell_type": "markdown",
   "metadata": {
    "cell_id": "00140-29c170a4-0b3e-4dfc-968c-0c16d10f77fe",
    "deepnote_cell_type": "markdown",
    "tags": []
   },
   "source": [
    "In addition, we can set the index to whatever we want it to be. \n",
    "So, instead of index going from 0 to 1173, we can change it to go from 1 to 1174."
   ]
  },
  {
   "cell_type": "code",
   "execution_count": 163,
   "metadata": {
    "cell_id": "00141-3e062514-f7b7-4e2f-afeb-9110cf038f16",
    "deepnote_cell_type": "code",
    "deepnote_to_be_reexecuted": false,
    "execution_millis": 55,
    "execution_start": 1610491964378,
    "source_hash": "8d44a7e",
    "tags": []
   },
   "outputs": [],
   "source": [
    "baby_df.set_index(np.arange(1, 1175))"
   ]
  },
  {
   "cell_type": "markdown",
   "metadata": {
    "cell_id": "00142-abe4b1a3-0b78-4b81-80bb-43d63aa069d3",
    "deepnote_cell_type": "markdown",
    "tags": []
   },
   "source": [
    "### 4.5. Selecting columns\n",
    "\n",
    "Sometimes the entire dataset contains too many columns, and we are only interested in some of the columns. \n",
    "In these situations, we would want to be able to select and display a subset of the columns from the original table. \n",
    "\n",
    "We can do this using the following syntax: `<dataframe>[<list of columns we want to select>]`"
   ]
  },
  {
   "cell_type": "code",
   "execution_count": 164,
   "metadata": {
    "cell_id": "00144-6352bbed-ac0b-4c93-958d-d8c9294d7e29",
    "deepnote_cell_type": "code",
    "deepnote_to_be_reexecuted": false,
    "execution_millis": 49,
    "execution_start": 1610491964963,
    "source_hash": "fa2bfe08",
    "tags": []
   },
   "outputs": [],
   "source": [
    "# Selects the columns \"Birth.Weight\" and \"Maternal.Age\" with all rows\n",
    "baby_df[['Birth.Weight', 'Maternal.Age']]"
   ]
  },
  {
   "cell_type": "markdown",
   "metadata": {
    "cell_id": "00145-1fe6a5d3-90b8-4970-9350-399ebf178023",
    "deepnote_cell_type": "markdown",
    "tags": []
   },
   "source": [
    "Notice the syntax of selecting multiple columns, and how the following doesn't work. You need to specify the columns you want as a list *within* the outer brackets."
   ]
  },
  {
   "cell_type": "code",
   "execution_count": 165,
   "metadata": {
    "cell_id": "00146-97c1373f-cc59-4225-89b9-8140a549c8ed",
    "deepnote_cell_type": "code",
    "deepnote_to_be_reexecuted": false,
    "execution_millis": 76,
    "execution_start": 1610491966297,
    "source_hash": "ee7c2fa9",
    "tags": []
   },
   "outputs": [],
   "source": [
    "# This doesn't work\n",
    "# baby_df['Birth.Weight', 'Maternal.Age']"
   ]
  },
  {
   "cell_type": "markdown",
   "metadata": {
    "cell_id": "00145-acb1d54b-b88b-4fde-97a1-f25e4f0063c7",
    "deepnote_cell_type": "markdown",
    "tags": []
   },
   "source": [
    "### 4.6. Getting a value\n",
    "\n",
    "What if you want to single out one entry of your entire table? \n",
    "This often occurs when we want the max or min value after sorting the table, for example:\n",
    "- *How many gestational days did the baby corresponding to the oldest mother go through?*\n",
    "- *How heavy was the baby that went through the longest gestational days?*\n",
    "\n",
    "To do this, we would first somehow sort the table, and then select the 0th element in the column of interest.\n",
    "In the code below, we show how to get the 0th element in the `Birth.Weight` column. The `.values` part retrieves the values in the series as an array. From here, you've already learned how to index into an array (simply doing `[0]` for the 0th element)."
   ]
  },
  {
   "cell_type": "code",
   "execution_count": 208,
   "metadata": {
    "cell_id": "00146-baff0561-27ee-4d0c-9fea-20fede408879",
    "deepnote_cell_type": "code",
    "deepnote_to_be_reexecuted": false,
    "execution_millis": 1,
    "execution_start": 1610515804094,
    "source_hash": "d83b9af7",
    "tags": []
   },
   "outputs": [],
   "source": [
    "baby_df['Birth.Weight'].values[0]"
   ]
  },
  {
   "cell_type": "markdown",
   "metadata": {
    "cell_id": "00147-9c9a334e-ec04-4235-876f-1c95d9740b18",
    "deepnote_cell_type": "markdown",
    "tags": []
   },
   "source": [
    "## 5. Techniques in `pandas`"
   ]
  },
  {
   "cell_type": "markdown",
   "metadata": {
    "cell_id": "00148-916d08f5-dc97-4499-b040-d2b61e1a3315",
    "deepnote_cell_type": "markdown",
    "tags": []
   },
   "source": [
    "### 5.1. Filtering and boolean indexing\n",
    "\n",
    "Sometimes, we would like to filter a table by only returning rows that satisfy a specific condition.\n",
    "We can do this in `pandas` by \"boolean indexing\". \n",
    "The expression below returns a boolean series where an entry is `True` if it satisfies the condition and `False` if it doesn't."
   ]
  },
  {
   "cell_type": "code",
   "execution_count": 167,
   "metadata": {
    "cell_id": "00150-70e7f358-dd09-4978-9f3b-8f05912cce1c",
    "deepnote_cell_type": "code",
    "deepnote_to_be_reexecuted": false,
    "execution_millis": 11,
    "execution_start": 1610491969153,
    "source_hash": "c1aaf83f",
    "tags": []
   },
   "outputs": [],
   "source": [
    "baby_df['Birth.Weight'] > 120"
   ]
  },
  {
   "cell_type": "markdown",
   "metadata": {
    "cell_id": "00151-35b5ffc2-22aa-470a-9e0b-5e3db14cafd1",
    "deepnote_cell_type": "markdown",
    "tags": []
   },
   "source": [
    "If we want to filter our `pandas` dataframe for all rows that satisfy `'Birth.Weight'` > 120, we can use the boolean series when indexing the table. \n",
    "The idea is that we only want the rows where the \"boolean index\" is `True`. "
   ]
  },
  {
   "cell_type": "code",
   "execution_count": 168,
   "metadata": {
    "cell_id": "00152-a6b071d4-603f-4f8a-a671-843e6028a830",
    "deepnote_cell_type": "code",
    "deepnote_to_be_reexecuted": false,
    "execution_millis": 59,
    "execution_start": 1610491969982,
    "source_hash": "bb40d8f2",
    "tags": []
   },
   "outputs": [],
   "source": [
    "# Select all rows that are True in the boolean series baby_df['Birth.Weight'] > 120\n",
    "baby_df[baby_df['Birth.Weight'] > 120]"
   ]
  },
  {
   "cell_type": "markdown",
   "metadata": {
    "cell_id": "00153-4cd1ffaf-e9b5-42fc-871e-7af265ebd99b",
    "deepnote_cell_type": "markdown",
    "tags": []
   },
   "source": [
    "\n",
    "Here are a few more examples:"
   ]
  },
  {
   "cell_type": "code",
   "execution_count": 169,
   "metadata": {
    "cell_id": "00154-73c3cdd7-a37b-4337-a5e7-5bcd5b4c3c6e",
    "deepnote_cell_type": "code",
    "deepnote_to_be_reexecuted": false,
    "execution_millis": 57,
    "execution_start": 1610491971235,
    "source_hash": "8dd3ab0b",
    "tags": []
   },
   "outputs": [],
   "source": [
    "# Return all rows where Maternal.Height is greater than or equal to 63\n",
    "baby_df[baby_df['Maternal.Height'] >= 63]"
   ]
  },
  {
   "cell_type": "code",
   "execution_count": 170,
   "metadata": {
    "cell_id": "00155-216529e7-67dd-49ae-a567-8a0eeed082f7",
    "deepnote_cell_type": "code",
    "deepnote_to_be_reexecuted": false,
    "execution_millis": 58,
    "execution_start": 1610491972438,
    "source_hash": "2f93444c",
    "tags": []
   },
   "outputs": [],
   "source": [
    "# Return all rows where Maternal.Smoker is True\n",
    "baby_df[baby_df['Maternal.Smoker'] == True]"
   ]
  },
  {
   "cell_type": "markdown",
   "metadata": {
    "cell_id": "00156-b4a443f0-86e5-4085-a5b8-1c2f0f436a46",
    "deepnote_cell_type": "markdown",
    "tags": []
   },
   "source": [
    "### 5.2. Filtering on multiple conditions\n",
    "\n",
    "We can also filter on multiple conditions. \n",
    "If we want rows where each condition is true, we separate our criterion by the `&` symbol, where `&` represents *and*.\n",
    "\n",
    "`df[(boolean series 1) & (boolean series 2) & (boolean series 2)]`\n",
    "\n",
    "If we just want one of the conditions to be true, we separate our criterion by `|` symbols, where `|` represents *or*.\n",
    "\n",
    "`df[(boolean series 1) | (boolean series 2) | (boolean series 2)]`"
   ]
  },
  {
   "cell_type": "code",
   "execution_count": 171,
   "metadata": {
    "cell_id": "00158-5c937bbd-52c9-4b3a-8507-fd2f4255df2c",
    "deepnote_cell_type": "code",
    "deepnote_to_be_reexecuted": false,
    "execution_millis": 61,
    "execution_start": 1610491973938,
    "source_hash": "b13ae7f1",
    "tags": []
   },
   "outputs": [],
   "source": [
    "# Select all rows where Gestational.Days are above or equal to 270, but less than 280\n",
    "baby_df[(baby_df['Gestational.Days'] >= 270) & (baby_df['Gestational.Days'] < 280)]"
   ]
  },
  {
   "cell_type": "markdown",
   "metadata": {
    "cell_id": "00160-2fedf235-c935-4127-bbb2-18991bbd4cd4",
    "deepnote_cell_type": "markdown",
    "output_cleared": false,
    "tags": []
   },
   "source": [
    "Next, we will be working with the `cones` table, a very small example table about ice cream flavors."
   ]
  },
  {
   "cell_type": "code",
   "execution_count": 172,
   "metadata": {
    "cell_id": "00161-080e3041-843f-484d-81d1-a69a4042d192",
    "deepnote_cell_type": "code",
    "deepnote_to_be_reexecuted": false,
    "execution_millis": 39,
    "execution_start": 1610491975444,
    "output_cleared": false,
    "source_hash": "2a477291",
    "tags": []
   },
   "outputs": [],
   "source": [
    "cones_df = pd.read_csv('cones.csv')\n",
    "cones_df"
   ]
  },
  {
   "cell_type": "markdown",
   "metadata": {
    "cell_id": "00162-bd96ccb7-7ae0-4bab-9761-8a9ea8ba17b0",
    "deepnote_cell_type": "markdown",
    "output_cleared": false,
    "tags": []
   },
   "source": [
    "### 5.3. Inserting new columns\n",
    "\n",
    "We have new information about the types of cones for each ice cream! \n",
    "Suppose your friend tells you information on what types of cones each ice cream comes with. \n",
    "We want to add this as a column to our data. "
   ]
  },
  {
   "cell_type": "code",
   "execution_count": 173,
   "metadata": {
    "cell_id": "00166-f41c09cb-10e4-4234-a2a6-801aba519587",
    "deepnote_cell_type": "code",
    "deepnote_to_be_reexecuted": false,
    "execution_millis": 1,
    "execution_start": 1610491976749,
    "output_cleared": false,
    "source_hash": "adfea08c",
    "tags": []
   },
   "outputs": [],
   "source": [
    "type_of_cone = [\"Waffle\", \"Sugar\", \"Sugar\", \"Waffle\", \"Waffle\", \"Sugar\"]"
   ]
  },
  {
   "cell_type": "markdown",
   "metadata": {
    "cell_id": "00169-49bc9239-bc1e-4cd5-8c9d-68a11e09ce72",
    "deepnote_cell_type": "markdown",
    "output_cleared": false,
    "tags": []
   },
   "source": [
    "There are many ways to add a new column to a dataframe in `pandas` — the easiest way is shown below. \n",
    "The text string inside the bracket denotes the new column name, and you assign it to the list containing the new column. \n",
    " "
   ]
  },
  {
   "cell_type": "code",
   "execution_count": 174,
   "metadata": {
    "cell_id": "00170-1d8b9933-dda3-4055-8901-8918b2770f6e",
    "deepnote_cell_type": "code",
    "deepnote_to_be_reexecuted": false,
    "execution_millis": 40,
    "execution_start": 1610491977559,
    "output_cleared": false,
    "source_hash": "21ee7f04",
    "tags": []
   },
   "outputs": [],
   "source": [
    "cones_df['Type of Cone'] = type_of_cone\n",
    "cones_df"
   ]
  },
  {
   "cell_type": "markdown",
   "metadata": {
    "cell_id": "00199-57c4ce19-230e-44be-b93a-da075ddfce78",
    "deepnote_cell_type": "markdown",
    "output_cleared": false,
    "tags": []
   },
   "source": [
    "### 5.4. Sorting columns\n",
    "\n",
    "What if we want to know the flavor of the most expensive ice-cream? In this case we would like to sort the table by the \"Price per Cone\" column.\n",
    "\n",
    "[`df.sort_values`](https://pandas.pydata.org/pandas-docs/stable/reference/api/pandas.DataFrame.sort_values.html) is the function in `pandas` that sorts the dataframe by a specified column. \n",
    "\n",
    "The argument to specify sorting order with `df.sort_values` is `ascending = True/False`. By default, `pandas` sets `ascending=True`."
   ]
  },
  {
   "cell_type": "code",
   "execution_count": 176,
   "metadata": {
    "cell_id": "00206-65f8fdb7-67d7-4992-afa5-7a6623f08aa3",
    "deepnote_cell_type": "code",
    "deepnote_to_be_reexecuted": false,
    "execution_millis": 1,
    "execution_start": 1610491984941,
    "output_cleared": false,
    "source_hash": "ce86a3b0",
    "tags": []
   },
   "outputs": [],
   "source": [
    "# Sorts cones_df in ascending order of 'Price per Cone'\n",
    "cones_df.sort_values('Price')"
   ]
  },
  {
   "cell_type": "code",
   "execution_count": 177,
   "metadata": {
    "cell_id": "00207-1b15af3c-c52e-4474-aa27-ceb245b1b8f9",
    "deepnote_cell_type": "code",
    "deepnote_to_be_reexecuted": false,
    "execution_millis": 67,
    "execution_start": 1610491990434,
    "output_cleared": false,
    "source_hash": "c053a71f",
    "tags": []
   },
   "outputs": [],
   "source": [
    "# Sorts cones_df in descending order of 'Price per Cone'\n",
    "cones_df.sort_values('Price', ascending=False)"
   ]
  },
  {
   "cell_type": "markdown",
   "metadata": {
    "cell_id": "00210-e6f14528-8ecf-4c70-b0ca-318bf09eef64",
    "deepnote_cell_type": "markdown",
    "output_cleared": false
   },
   "source": [
    "We can also sort a dataframe by its index using [`sort_index`](https://pandas.pydata.org/pandas-docs/stable/reference/api/pandas.DataFrame.sort_index.html). The function works very similarly as `sort_values`, but does not require us to pass in a column since we are sorting the index."
   ]
  },
  {
   "cell_type": "code",
   "execution_count": 178,
   "metadata": {
    "cell_id": "00211-119dbd0c-de81-4ed3-af7a-c155408710dc",
    "deepnote_cell_type": "code",
    "deepnote_to_be_reexecuted": false,
    "execution_millis": 1,
    "execution_start": 1610492013117,
    "output_cleared": false,
    "source_hash": "f4b6a214"
   },
   "outputs": [],
   "source": [
    "cones_df = cones_df.sort_index()\n",
    "cones_df"
   ]
  },
  {
   "cell_type": "markdown",
   "metadata": {
    "cell_id": "00232-ae127fb9-b84e-416a-96b6-e9c62126d3d4",
    "deepnote_cell_type": "markdown",
    "output_cleared": false,
    "tags": []
   },
   "source": [
    "### 5.5. Groupby and aggregation (Edit note: not as positive on this one but pretty sure we don't need this)\n",
    "\n",
    "Suppose we wanted to find the average price for each ice cream flavor.\n",
    "\n",
    "Grouping in `pandas` is done with the [groupby](https://pandas.pydata.org/pandas-docs/stable/reference/api/pandas.DataFrame.groupby.html) method.\n",
    "This process is slightly more involved because calling `groupby` returns a \"groupby\" object, which we then use to can aggregate on a column. "
   ]
  },
  {
   "cell_type": "code",
   "execution_count": 180,
   "metadata": {
    "cell_id": "00236-52ad905a-25bd-46da-bac7-89a139ca7390",
    "deepnote_cell_type": "code",
    "deepnote_to_be_reexecuted": false,
    "execution_millis": 7,
    "execution_start": 1610492020651,
    "output_cleared": false,
    "source_hash": "ae6e6420",
    "tags": []
   },
   "outputs": [],
   "source": [
    "# A groupby object is returned\n",
    "cones_df[['Flavor', 'Price']].groupby('Flavor')"
   ]
  },
  {
   "cell_type": "markdown",
   "metadata": {
    "cell_id": "00237-231280f3-ea22-4cf4-9c24-10460307e534",
    "deepnote_cell_type": "markdown",
    "output_cleared": false,
    "tags": []
   },
   "source": [
    "We can then finish our grouping by using an aggregating function like `.mean`."
   ]
  },
  {
   "cell_type": "code",
   "execution_count": 181,
   "metadata": {
    "cell_id": "00238-197768ca-d812-40af-b014-c0c48c1f2c45",
    "deepnote_cell_type": "code",
    "deepnote_to_be_reexecuted": false,
    "execution_millis": 21,
    "execution_start": 1610492027002,
    "output_cleared": false,
    "source_hash": "739abe55",
    "tags": []
   },
   "outputs": [],
   "source": [
    "cones_df[['Flavor', 'Price']].groupby('Flavor').mean()"
   ]
  },
  {
   "cell_type": "markdown",
   "metadata": {
    "cell_id": "00239-89a288a1-6b5e-4c89-afc7-3e0c8255c37c",
    "deepnote_cell_type": "markdown",
    "output_cleared": false,
    "tags": []
   },
   "source": [
    "Note that the column we group by automatically becomes the index of the new dataframe. We can prevent this by setting `as_index=False` in our call to `groupby`."
   ]
  },
  {
   "cell_type": "code",
   "execution_count": 182,
   "metadata": {
    "cell_id": "00240-1941810c-b108-48d8-ae3c-3213d05efda5",
    "deepnote_cell_type": "code",
    "deepnote_to_be_reexecuted": false,
    "execution_millis": 35,
    "execution_start": 1610492032005,
    "output_cleared": false,
    "source_hash": "e17fabeb",
    "tags": []
   },
   "outputs": [],
   "source": [
    "cones_df[['Flavor', 'Price']].groupby('Flavor', as_index=False).mean()"
   ]
  },
  {
   "cell_type": "markdown",
   "metadata": {
    "cell_id": "00241-54bfb6a4-a548-4179-8023-5e1b2a29fccc",
    "deepnote_cell_type": "markdown",
    "output_cleared": false,
    "tags": []
   },
   "source": [
    "Typical functions you can use to aggregate include `.mean`, `.median`, `.sum`, `.max`, and `.min`."
   ]
  },
  {
   "cell_type": "markdown",
   "metadata": {
    "cell_id": "00178-fbdcdafe-5851-4a3d-8a32-7d765f0366aa",
    "deepnote_cell_type": "markdown",
    "tags": []
   },
   "source": [
    "### 5.6. An exercise in `pandas`\n",
    "\n",
    "In this exercise, you will use some common functions in `pandas` that are featured above."
   ]
  },
  {
   "cell_type": "markdown",
   "metadata": {
    "cell_id": "00179-1adfdc69-077d-4bc5-9679-28059fffa23c",
    "deepnote_cell_type": "markdown",
    "deletable": false,
    "editable": false,
    "tags": []
   },
   "source": [
    "**Question 5.6.1.** Read in the table `gdp.csv`, storing into the variable `gdp`.\n",
    "\n",
    "<!--\n",
    "BEGIN QUESTION\n",
    "name: q5_6_1\n",
    "-->"
   ]
  },
  {
   "cell_type": "code",
   "execution_count": 223,
   "metadata": {
    "cell_id": "00179-3322c68d-a01c-4a9c-8425-e634cd4c44f6",
    "deepnote_cell_type": "code",
    "deepnote_to_be_reexecuted": false,
    "execution_millis": 724,
    "execution_start": 1610516689969,
    "source_hash": "ce5d72c7",
    "tags": []
   },
   "outputs": [],
   "source": [
    "gdp = ...\n",
    "gdp"
   ]
  },
  {
   "cell_type": "code",
   "execution_count": null,
   "metadata": {
    "deletable": false,
    "editable": false
   },
   "outputs": [],
   "source": [
    "grader.check(\"q5_6_1\")"
   ]
  },
  {
   "cell_type": "markdown",
   "metadata": {
    "cell_id": "00180-3430a5eb-523a-4334-9b77-bf872c02e156",
    "deepnote_cell_type": "markdown",
    "tags": []
   },
   "source": [
    "The three variables in `gdp` that we are interested in are the following:\n",
    "\n",
    "1. `cn` $\\Rightarrow$ Capital Stock in millions of USD\n",
    "2. `cgdpe` $\\Rightarrow$ Expenditure-side Real GDP in millions of USD\n",
    "3. `emp` $\\Rightarrow$ Number of Persons employed in millions"
   ]
  },
  {
   "cell_type": "markdown",
   "metadata": {
    "cell_id": "00182-bf4560bd-376d-4969-ad4f-f7eb21e2c641",
    "deepnote_cell_type": "markdown",
    "deletable": false,
    "editable": false,
    "tags": []
   },
   "source": [
    "**Question 5.6.2.** \n",
    "Select the columns `country`, `year`, `cn`, `cgdpe`, `emp`, from the dataframe called `gdp`. Call the new table `gdp2` and display its first five rows. \n",
    "\n",
    "<!--\n",
    "BEGIN QUESTION\n",
    "name: q5_6_2\n",
    "-->"
   ]
  },
  {
   "cell_type": "code",
   "execution_count": 225,
   "metadata": {
    "cell_id": "00182-16cfe068-2003-4046-9b0b-4f16a8b90ddd",
    "deepnote_cell_type": "code",
    "deepnote_to_be_reexecuted": false,
    "execution_millis": 51,
    "execution_start": 1610516694348,
    "source_hash": "d686982",
    "tags": []
   },
   "outputs": [],
   "source": [
    "gdp2 = ...\n",
    "gdp2.head()"
   ]
  },
  {
   "cell_type": "code",
   "execution_count": null,
   "metadata": {
    "deletable": false,
    "editable": false
   },
   "outputs": [],
   "source": [
    "grader.check(\"q5_6_2\")"
   ]
  },
  {
   "cell_type": "markdown",
   "metadata": {
    "cell_id": "00183-6d11c014-654a-4417-8904-e91fbf1f9cc0",
    "deepnote_cell_type": "markdown",
    "deletable": false,
    "editable": false,
    "tags": []
   },
   "source": [
    "**Question 5.6.3.** \n",
    "What is the most recent year in the data?\n",
    "\n",
    "*Hint*: Use `df.sort_values(...)`.\n",
    "\n",
    "<!--\n",
    "BEGIN QUESTION\n",
    "name: q5_6_3\n",
    "-->"
   ]
  },
  {
   "cell_type": "code",
   "execution_count": 226,
   "metadata": {
    "cell_id": "00184-dcb266e5-de55-4d84-a415-1eec7132ad3f",
    "deepnote_cell_type": "code",
    "deepnote_to_be_reexecuted": false,
    "execution_millis": 11,
    "execution_start": 1610516697768,
    "source_hash": "14cd76a9",
    "tags": []
   },
   "outputs": [],
   "source": [
    "sorted_cleaned_gdp = ...\n",
    "latest_year = ...\n",
    "latest_year"
   ]
  },
  {
   "cell_type": "code",
   "execution_count": null,
   "metadata": {
    "deletable": false,
    "editable": false
   },
   "outputs": [],
   "source": [
    "grader.check(\"q5_6_3\")"
   ]
  },
  {
   "cell_type": "markdown",
   "metadata": {
    "cell_id": "00186-98d78128-4b14-46c8-b3ce-c15932dfdee6",
    "deepnote_cell_type": "markdown",
    "deletable": false,
    "editable": false,
    "tags": []
   },
   "source": [
    "**Question 5.6.4.** \n",
    "Notice that there are a lot of -1 values. This dataset uses -1 to indicate missing data for a given country-year combination, so we don't really care about these rows.\n",
    "Filter out all the rows in which the GDP, employment level, or capital stock was recorded as -1 and store the corresponding table to the variable `cleaned_gdp`.\n",
    "\n",
    "<!--\n",
    "BEGIN QUESTION\n",
    "name: q5_6_4\n",
    "-->"
   ]
  },
  {
   "cell_type": "code",
   "execution_count": 228,
   "metadata": {
    "cell_id": "00187-ba94e94f-9626-4fe4-a1a2-f4e83415a3c8",
    "deepnote_cell_type": "code",
    "deepnote_to_be_reexecuted": false,
    "execution_millis": 140,
    "execution_start": 1610516700809,
    "source_hash": "5877bd4a",
    "tags": []
   },
   "outputs": [],
   "source": [
    "cleaned_gdp = ...\n",
    "cleaned_gdp"
   ]
  },
  {
   "cell_type": "code",
   "execution_count": null,
   "metadata": {
    "deletable": false,
    "editable": false
   },
   "outputs": [],
   "source": [
    "grader.check(\"q5_6_4\")"
   ]
  },
  {
   "cell_type": "markdown",
   "metadata": {
    "cell_id": "00188-57a78da6-755b-43b4-a119-4eb44aafa1b3",
    "deepnote_cell_type": "markdown",
    "deletable": false,
    "editable": false,
    "tags": []
   },
   "source": [
    "**Question 5.6.5**: \n",
    "Create a two-column table called `min_years` from `my_countries`. \n",
    "Its first column will be called `country` and the second `year`, referring to the earliest year. \n",
    "It should contain all of the countries that appear in `cleaned_gdp`, sorted in alphabetical order, with the earliest year they appear in the dataset where the `cgdpe`, `cn`, and `emp` columns are not -1.\n",
    "\n",
    "<!--\n",
    "BEGIN QUESTION\n",
    "name: q5_6_5\n",
    "-->"
   ]
  },
  {
   "cell_type": "code",
   "execution_count": 229,
   "metadata": {
    "cell_id": "00189-4e110b4c-69c5-47f1-88c0-7578a75769f6",
    "deepnote_cell_type": "code",
    "deepnote_to_be_reexecuted": false,
    "execution_millis": 81,
    "execution_start": 1610516708721,
    "source_hash": "872a3eac",
    "tags": []
   },
   "outputs": [],
   "source": [
    "min_years = ...\n",
    "min_years = ...\n",
    "min_years"
   ]
  },
  {
   "cell_type": "code",
   "execution_count": null,
   "metadata": {
    "deletable": false,
    "editable": false
   },
   "outputs": [],
   "source": [
    "grader.check(\"q5_6_5\")"
   ]
  },
  {
   "cell_type": "markdown",
   "metadata": {
    "cell_id": "00182-a6017f9a-b033-49f7-8b9c-500326e22b1e",
    "deepnote_cell_type": "markdown",
    "deletable": false,
    "editable": false,
    "tags": []
   },
   "source": [
    "**Question 5.6.6.** \n",
    "For the rest of this question, we will only investigate 2 countries: the United States and Singapore. \n",
    "Assign `my_countries` corresponding to the rows of `cleaned_gdp` that refer to either country.\n",
    "\n",
    "<!--\n",
    "BEGIN QUESTION\n",
    "name: q5_6_6\n",
    "-->"
   ]
  },
  {
   "cell_type": "code",
   "execution_count": 231,
   "metadata": {
    "cell_id": "00184-e4193a4a-d6de-4f46-8b08-3dc1e43cb611",
    "deepnote_cell_type": "code",
    "deepnote_to_be_reexecuted": false,
    "execution_millis": 94,
    "execution_start": 1610516712614,
    "source_hash": "8e9fa417",
    "tags": []
   },
   "outputs": [],
   "source": [
    "my_countries = ...\n",
    "my_countries"
   ]
  },
  {
   "cell_type": "code",
   "execution_count": null,
   "metadata": {
    "deletable": false,
    "editable": false
   },
   "outputs": [],
   "source": [
    "grader.check(\"q5_6_6\")"
   ]
  },
  {
   "cell_type": "markdown",
   "metadata": {
    "cell_id": "00191-ef487f3e-0395-435e-97d2-7c680633d0d9",
    "deepnote_cell_type": "markdown",
    "deletable": false,
    "editable": false,
    "tags": []
   },
   "source": [
    "**Question 5.6.7.** \n",
    "Compute the GDP per employed-person and add that as a column called `gdp_pc` to `my_countries`.\n",
    "\n",
    "*Hint*: You can divide a column by another column, which will do element-wise division. This works with other operations too like addition and so on.\n",
    "\n",
    "<!--\n",
    "BEGIN QUESTION\n",
    "name: q5_6_7\n",
    "-->"
   ]
  },
  {
   "cell_type": "code",
   "execution_count": 235,
   "metadata": {
    "cell_id": "00192-b10f6f2a-f7da-4a5e-b609-a62f28b0183a",
    "deepnote_cell_type": "code",
    "deepnote_to_be_reexecuted": false,
    "execution_millis": 112,
    "execution_start": 1610516719194,
    "source_hash": "9e5ea1f0",
    "tags": []
   },
   "outputs": [],
   "source": [
    "...\n",
    "my_countries"
   ]
  },
  {
   "cell_type": "code",
   "execution_count": null,
   "metadata": {
    "deletable": false,
    "editable": false
   },
   "outputs": [],
   "source": [
    "grader.check(\"q5_6_7\")"
   ]
  },
  {
   "cell_type": "markdown",
   "metadata": {
    "cell_id": "00182-5c50492e-5771-4550-bfb1-99e9d80665db",
    "deepnote_cell_type": "markdown",
    "tags": []
   },
   "source": []
  },
  {
   "cell_type": "markdown",
   "metadata": {
    "deletable": false,
    "editable": false
   },
   "source": [
    "---\n",
    "\n",
    "To double-check your work, the cell below will rerun all of the autograder tests."
   ]
  },
  {
   "cell_type": "code",
   "execution_count": null,
   "metadata": {
    "deletable": false,
    "editable": false
   },
   "outputs": [],
   "source": [
    "grader.check_all()"
   ]
  },
  {
   "cell_type": "markdown",
   "metadata": {
    "deletable": false,
    "editable": false
   },
   "source": [
    "## Submission\n",
    "\n",
    "Make sure you have run all cells in your notebook in order before running the cell below, so that all images/graphs appear in the output. The cell below will generate a zip file for you to submit. **Please save before exporting!**"
   ]
  },
  {
   "cell_type": "code",
   "execution_count": null,
   "metadata": {
    "deletable": false,
    "editable": false
   },
   "outputs": [],
   "source": [
    "# Save your notebook first, then run this cell to export your submission.\n",
    "grader.export(\"ps00.ipynb\")"
   ]
  },
  {
   "cell_type": "markdown",
   "metadata": {},
   "source": [
    " "
   ]
  }
 ],
 "metadata": {
  "anaconda-cloud": {},
  "deepnote_execution_queue": [],
  "deepnote_notebook_id": "4e9ba4fa-7d23-4f8f-958c-796c719117ed",
  "kernelspec": {
   "display_name": "Python 3",
   "language": "python",
   "name": "python3"
  },
  "language_info": {
   "codemirror_mode": {
    "name": "ipython",
    "version": 3
   },
   "file_extension": ".py",
   "mimetype": "text/x-python",
   "name": "python",
   "nbconvert_exporter": "python",
   "pygments_lexer": "ipython3",
   "version": "3.8.1"
  }
 },
 "nbformat": 4,
 "nbformat_minor": 4
}
